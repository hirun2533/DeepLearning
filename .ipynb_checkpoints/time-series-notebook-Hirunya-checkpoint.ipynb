{
 "cells": [
  {
   "cell_type": "markdown",
   "metadata": {},
   "source": [
    "## Hirunya Hirunsirisombut\n",
    "## CSC 578 Final Project Part A"
   ]
  },
  {
   "cell_type": "code",
   "execution_count": 1,
   "metadata": {},
   "outputs": [],
   "source": [
    "import os\n",
    "import datetime\n",
    "import IPython\n",
    "import IPython.display\n",
    "import matplotlib as mpl\n",
    "import matplotlib.pyplot as plt\n",
    "import numpy as np\n",
    "import pandas as pd\n",
    "import seaborn as sns\n",
    "import tensorflow as tf\n",
    "import tensorflow.keras as keras\n",
    "from tensorflow.keras.preprocessing import timeseries_dataset_from_array\n",
    "from tensorflow.keras.models import Sequential\n",
    "from tensorflow.keras.layers import Dense, Dropout,Flatten,LSTM,RepeatVector,Bidirectional,Activation,GRU,BatchNormalization,SimpleRNN\n",
    "import warnings\n",
    "warnings.filterwarnings(\"ignore\")"
   ]
  },
  {
   "cell_type": "code",
   "execution_count": 2,
   "metadata": {},
   "outputs": [],
   "source": [
    "traffic = pd.read_csv(\"Metro_Interstate_Traffic_volume.csv\") "
   ]
  },
  {
   "cell_type": "code",
   "execution_count": 3,
   "metadata": {},
   "outputs": [],
   "source": [
    "d_t = pd.to_datetime(traffic.pop('date_time'),  format='%Y-%m-%d %H:%M:%S')  "
   ]
  },
  {
   "cell_type": "code",
   "execution_count": 4,
   "metadata": {},
   "outputs": [
    {
     "data": {
      "text/html": [
       "<div>\n",
       "<style scoped>\n",
       "    .dataframe tbody tr th:only-of-type {\n",
       "        vertical-align: middle;\n",
       "    }\n",
       "\n",
       "    .dataframe tbody tr th {\n",
       "        vertical-align: top;\n",
       "    }\n",
       "\n",
       "    .dataframe thead th {\n",
       "        text-align: right;\n",
       "    }\n",
       "</style>\n",
       "<table border=\"1\" class=\"dataframe\">\n",
       "  <thead>\n",
       "    <tr style=\"text-align: right;\">\n",
       "      <th></th>\n",
       "      <th>holiday</th>\n",
       "      <th>temp</th>\n",
       "      <th>rain_1h</th>\n",
       "      <th>snow_1h</th>\n",
       "      <th>clouds_all</th>\n",
       "      <th>weather_main</th>\n",
       "      <th>weather_description</th>\n",
       "      <th>traffic_volume</th>\n",
       "    </tr>\n",
       "  </thead>\n",
       "  <tbody>\n",
       "    <tr>\n",
       "      <th>0</th>\n",
       "      <td>None</td>\n",
       "      <td>288.28</td>\n",
       "      <td>0.0</td>\n",
       "      <td>0.0</td>\n",
       "      <td>40</td>\n",
       "      <td>Clouds</td>\n",
       "      <td>scattered clouds</td>\n",
       "      <td>5545</td>\n",
       "    </tr>\n",
       "    <tr>\n",
       "      <th>1</th>\n",
       "      <td>None</td>\n",
       "      <td>289.36</td>\n",
       "      <td>0.0</td>\n",
       "      <td>0.0</td>\n",
       "      <td>75</td>\n",
       "      <td>Clouds</td>\n",
       "      <td>broken clouds</td>\n",
       "      <td>4516</td>\n",
       "    </tr>\n",
       "    <tr>\n",
       "      <th>2</th>\n",
       "      <td>None</td>\n",
       "      <td>289.58</td>\n",
       "      <td>0.0</td>\n",
       "      <td>0.0</td>\n",
       "      <td>90</td>\n",
       "      <td>Clouds</td>\n",
       "      <td>overcast clouds</td>\n",
       "      <td>4767</td>\n",
       "    </tr>\n",
       "    <tr>\n",
       "      <th>3</th>\n",
       "      <td>None</td>\n",
       "      <td>290.13</td>\n",
       "      <td>0.0</td>\n",
       "      <td>0.0</td>\n",
       "      <td>90</td>\n",
       "      <td>Clouds</td>\n",
       "      <td>overcast clouds</td>\n",
       "      <td>5026</td>\n",
       "    </tr>\n",
       "    <tr>\n",
       "      <th>4</th>\n",
       "      <td>None</td>\n",
       "      <td>291.14</td>\n",
       "      <td>0.0</td>\n",
       "      <td>0.0</td>\n",
       "      <td>75</td>\n",
       "      <td>Clouds</td>\n",
       "      <td>broken clouds</td>\n",
       "      <td>4918</td>\n",
       "    </tr>\n",
       "  </tbody>\n",
       "</table>\n",
       "</div>"
      ],
      "text/plain": [
       "  holiday    temp  rain_1h  snow_1h  clouds_all weather_main  \\\n",
       "0    None  288.28      0.0      0.0          40       Clouds   \n",
       "1    None  289.36      0.0      0.0          75       Clouds   \n",
       "2    None  289.58      0.0      0.0          90       Clouds   \n",
       "3    None  290.13      0.0      0.0          90       Clouds   \n",
       "4    None  291.14      0.0      0.0          75       Clouds   \n",
       "\n",
       "  weather_description  traffic_volume  \n",
       "0    scattered clouds            5545  \n",
       "1       broken clouds            4516  \n",
       "2     overcast clouds            4767  \n",
       "3     overcast clouds            5026  \n",
       "4       broken clouds            4918  "
      ]
     },
     "execution_count": 4,
     "metadata": {},
     "output_type": "execute_result"
    }
   ],
   "source": [
    "traffic.head()  "
   ]
  },
  {
   "cell_type": "markdown",
   "metadata": {},
   "source": [
    "## Exploratory Data Analysis"
   ]
  },
  {
   "cell_type": "markdown",
   "metadata": {},
   "source": [
    "#### The evolution of column, rain_1h columns, snow_1h column, clouds_all column, and traffic_volume over the time"
   ]
  },
  {
   "cell_type": "code",
   "execution_count": 5,
   "metadata": {},
   "outputs": [
    {
     "data": {
      "image/png": "[encoded data removed]",
      "text/plain": [
       "<Figure size 504x360 with 5 Axes>"
      ]
     },
     "metadata": {
      "needs_background": "light"
     },
     "output_type": "display_data"
    },
    {
     "data": {
      "image/png": "[encoded data removed]",
      "text/plain": [
       "<Figure size 504x360 with 5 Axes>"
      ]
     },
     "metadata": {
      "needs_background": "light"
     },
     "output_type": "display_data"
    }
   ],
   "source": [
    "mpl.rcParams['figure.figsize'] = (7, 5)                             \n",
    "\n",
    "p_cols = ['temp', 'rain_1h', 'snow_1h', 'clouds_all', 'traffic_volume']                \n",
    "p_feat = traffic[p_cols]                                                 \n",
    "p_feat.index = d_t                                                      \n",
    "pp = p_feat.plot(subplots=True)                                         \n",
    "\n",
    "p_feat = traffic[p_cols][:700]                                      \n",
    "p_feat.index = d_t[:700]                                           \n",
    "pp = p_feat.plot(subplots=True)                                    "
   ]
  },
  {
   "cell_type": "markdown",
   "metadata": {},
   "source": [
    "#### Examine the histograms illustrating the distribtions of numeric attributes, and the characteristics. Also, the bar graphs"
   ]
  },
  {
   "cell_type": "code",
   "execution_count": 6,
   "metadata": {},
   "outputs": [
    {
     "data": {
      "text/plain": [
       "<matplotlib.axes._subplots.AxesSubplot at 0x7fbb5bf6b340>"
      ]
     },
     "execution_count": 6,
     "metadata": {},
     "output_type": "execute_result"
    },
    {
     "data": {
      "image/png": "[encoded data removed]",
      "text/plain": [
       "<Figure size 504x360 with 1 Axes>"
      ]
     },
     "metadata": {
      "needs_background": "light"
     },
     "output_type": "display_data"
    }
   ],
   "source": [
    "traffic[\"temp\"].plot(kind=\"hist\", bins=6, color='orange')  "
   ]
  },
  {
   "cell_type": "markdown",
   "metadata": {},
   "source": [
    "The histogram shows the frequency of the temp column. It shows that the most frequency of the temprerature is approximately around 260 until 300"
   ]
  },
  {
   "cell_type": "code",
   "execution_count": 7,
   "metadata": {},
   "outputs": [
    {
     "data": {
      "text/plain": [
       "<matplotlib.axes._subplots.AxesSubplot at 0x7fbb5c004eb0>"
      ]
     },
     "execution_count": 7,
     "metadata": {},
     "output_type": "execute_result"
    },
    {
     "data": {
      "image/png": "[encoded data removed]",
      "text/plain": [
       "<Figure size 504x360 with 1 Axes>"
      ]
     },
     "metadata": {
      "needs_background": "light"
     },
     "output_type": "display_data"
    }
   ],
   "source": [
    "traffic[\"rain_1h\"].plot(kind=\"hist\", bins=6, color='orange') "
   ]
  },
  {
   "cell_type": "markdown",
   "metadata": {},
   "source": [
    "The histogram shows the frequency of the rain_1h column. It shows that the most frequency of the rain is approximately around 0 until 9800 mm for last hour"
   ]
  },
  {
   "cell_type": "code",
   "execution_count": 8,
   "metadata": {},
   "outputs": [
    {
     "data": {
      "text/plain": [
       "<matplotlib.axes._subplots.AxesSubplot at 0x7fab89155be0>"
      ]
     },
     "execution_count": 8,
     "metadata": {},
     "output_type": "execute_result"
    },
    {
     "data": {
      "image/png": "[encoded data removed]",
      "text/plain": [
       "<Figure size 504x360 with 1 Axes>"
      ]
     },
     "metadata": {
      "needs_background": "light"
     },
     "output_type": "display_data"
    }
   ],
   "source": [
    "traffic[\"snow_1h\"].plot(kind=\"hist\", bins=6, color='orange') "
   ]
  },
  {
   "cell_type": "markdown",
   "metadata": {},
   "source": [
    "The histogram shows the frequency of the snow_1h column. It shows that the most frequency of the snow is 0. it is clearly that snow has only 0 mm for last hour."
   ]
  },
  {
   "cell_type": "code",
   "execution_count": 9,
   "metadata": {},
   "outputs": [
    {
     "data": {
      "text/plain": [
       "<matplotlib.axes._subplots.AxesSubplot at 0x7fab8945e580>"
      ]
     },
     "execution_count": 9,
     "metadata": {},
     "output_type": "execute_result"
    },
    {
     "data": {
      "image/png": "[encoded data removed]",
      "text/plain": [
       "<Figure size 504x360 with 1 Axes>"
      ]
     },
     "metadata": {
      "needs_background": "light"
     },
     "output_type": "display_data"
    }
   ],
   "source": [
    "traffic[\"clouds_all\"].plot(kind=\"hist\", bins=6, color='orange') "
   ]
  },
  {
   "cell_type": "markdown",
   "metadata": {},
   "source": [
    "The histogram shows the frequency of the clouds_all column. It shows that the most frequency of the cloud is apporximately around 85 to 100 percent."
   ]
  },
  {
   "cell_type": "code",
   "execution_count": 10,
   "metadata": {},
   "outputs": [
    {
     "data": {
      "text/plain": [
       "<matplotlib.axes._subplots.AxesSubplot at 0x7fab8953e100>"
      ]
     },
     "execution_count": 10,
     "metadata": {},
     "output_type": "execute_result"
    },
    {
     "data": {
      "image/png": "[encoded data removed]",
      "text/plain": [
       "<Figure size 504x360 with 1 Axes>"
      ]
     },
     "metadata": {
      "needs_background": "light"
     },
     "output_type": "display_data"
    }
   ],
   "source": [
    "traffic[\"traffic_volume\"].plot(kind=\"hist\", bins=6, color='orange') "
   ]
  },
  {
   "cell_type": "markdown",
   "metadata": {},
   "source": [
    "The histogram shows the frequency of the traffic_volumn column. It shows that the most frequency of the number of the car start with approximately around 0 until 1100."
   ]
  },
  {
   "cell_type": "markdown",
   "metadata": {},
   "source": [
    "#### The bar graph"
   ]
  },
  {
   "cell_type": "code",
   "execution_count": 11,
   "metadata": {},
   "outputs": [
    {
     "data": {
      "text/plain": [
       "<matplotlib.axes._subplots.AxesSubplot at 0x7faba4744490>"
      ]
     },
     "execution_count": 11,
     "metadata": {},
     "output_type": "execute_result"
    },
    {
     "data": {
      "image/png": "[encoded data removed]",
      "text/plain": [
       "<Figure size 720x288 with 2 Axes>"
      ]
     },
     "metadata": {
      "needs_background": "light"
     },
     "output_type": "display_data"
    }
   ],
   "source": [
    "holiday = traffic[\"holiday\"].value_counts()                 \n",
    "wea_main = traffic[\"weather_main\"].value_counts()         \n",
    "\n",
    "fig = plt.figure(figsize=(10,4))                           \n",
    "myP = fig.add_subplot(121)                                 \n",
    "myP.set_xlabel('holiday')                                  \n",
    "myP.set_ylabel('Count')                                    \n",
    "myP.set_title(\"holiday Distribution\")                       \n",
    "holiday.plot(kind='bar', color = 'green', grid = True)   \n",
    "\n",
    "myP = fig.add_subplot(122)                                  \n",
    "myP.set_xlabel('weather_main')                          \n",
    "myP.set_ylabel('Count')                                     \n",
    "myP.set_title(\"weather_main Distribution\")                  \n",
    "wea_main.plot(kind='bar', color = 'green',grid = True)     "
   ]
  },
  {
   "cell_type": "markdown",
   "metadata": {},
   "source": [
    "the bar graph of holiday and weather_main.\n",
    "The holiday graph shows that 'None' is the most count value, and the weather_main shows that 'Clouds' is the most count value."
   ]
  },
  {
   "cell_type": "code",
   "execution_count": 12,
   "metadata": {},
   "outputs": [
    {
     "data": {
      "text/plain": [
       "<matplotlib.axes._subplots.AxesSubplot at 0x7fab8703adc0>"
      ]
     },
     "execution_count": 12,
     "metadata": {},
     "output_type": "execute_result"
    },
    {
     "data": {
      "image/png": "[encoded data removed]",
      "text/plain": [
       "<Figure size 504x360 with 1 Axes>"
      ]
     },
     "metadata": {
      "needs_background": "light"
     },
     "output_type": "display_data"
    }
   ],
   "source": [
    "temp3 = traffic[\"weather_description\"].value_counts()   \n",
    "myP = fig.add_subplot(122)                            \n",
    "myP.set_xlabel('weather_description')                   \n",
    "myP.set_ylabel('Count')                               \n",
    "myP.set_title(\"weather_description Distribution\")     \n",
    "temp3.plot(kind='bar', color = 'green', grid = True)   "
   ]
  },
  {
   "cell_type": "markdown",
   "metadata": {},
   "source": [
    "the bar graph of weather description column.\n",
    "The weather description graph shows that 'sky is clear' is the most count value."
   ]
  },
  {
   "cell_type": "markdown",
   "metadata": {},
   "source": [
    "#### The statistic of the data set"
   ]
  },
  {
   "cell_type": "code",
   "execution_count": 8,
   "metadata": {},
   "outputs": [
    {
     "data": {
      "text/html": [
       "<div>\n",
       "<style scoped>\n",
       "    .dataframe tbody tr th:only-of-type {\n",
       "        vertical-align: middle;\n",
       "    }\n",
       "\n",
       "    .dataframe tbody tr th {\n",
       "        vertical-align: top;\n",
       "    }\n",
       "\n",
       "    .dataframe thead th {\n",
       "        text-align: right;\n",
       "    }\n",
       "</style>\n",
       "<table border=\"1\" class=\"dataframe\">\n",
       "  <thead>\n",
       "    <tr style=\"text-align: right;\">\n",
       "      <th></th>\n",
       "      <th>count</th>\n",
       "      <th>mean</th>\n",
       "      <th>std</th>\n",
       "      <th>min</th>\n",
       "      <th>25%</th>\n",
       "      <th>50%</th>\n",
       "      <th>75%</th>\n",
       "      <th>max</th>\n",
       "    </tr>\n",
       "  </thead>\n",
       "  <tbody>\n",
       "    <tr>\n",
       "      <th>temp</th>\n",
       "      <td>48204.0</td>\n",
       "      <td>281.205870</td>\n",
       "      <td>13.338232</td>\n",
       "      <td>0.0</td>\n",
       "      <td>272.16</td>\n",
       "      <td>282.45</td>\n",
       "      <td>291.806</td>\n",
       "      <td>310.07</td>\n",
       "    </tr>\n",
       "    <tr>\n",
       "      <th>rain_1h</th>\n",
       "      <td>48204.0</td>\n",
       "      <td>0.334264</td>\n",
       "      <td>44.789133</td>\n",
       "      <td>0.0</td>\n",
       "      <td>0.00</td>\n",
       "      <td>0.00</td>\n",
       "      <td>0.000</td>\n",
       "      <td>9831.30</td>\n",
       "    </tr>\n",
       "    <tr>\n",
       "      <th>snow_1h</th>\n",
       "      <td>48204.0</td>\n",
       "      <td>0.000222</td>\n",
       "      <td>0.008168</td>\n",
       "      <td>0.0</td>\n",
       "      <td>0.00</td>\n",
       "      <td>0.00</td>\n",
       "      <td>0.000</td>\n",
       "      <td>0.51</td>\n",
       "    </tr>\n",
       "    <tr>\n",
       "      <th>clouds_all</th>\n",
       "      <td>48204.0</td>\n",
       "      <td>49.362231</td>\n",
       "      <td>39.015750</td>\n",
       "      <td>0.0</td>\n",
       "      <td>1.00</td>\n",
       "      <td>64.00</td>\n",
       "      <td>90.000</td>\n",
       "      <td>100.00</td>\n",
       "    </tr>\n",
       "    <tr>\n",
       "      <th>traffic_volume</th>\n",
       "      <td>48204.0</td>\n",
       "      <td>3259.818355</td>\n",
       "      <td>1986.860670</td>\n",
       "      <td>0.0</td>\n",
       "      <td>1193.00</td>\n",
       "      <td>3380.00</td>\n",
       "      <td>4933.000</td>\n",
       "      <td>7280.00</td>\n",
       "    </tr>\n",
       "  </tbody>\n",
       "</table>\n",
       "</div>"
      ],
      "text/plain": [
       "                  count         mean          std  min      25%      50%  \\\n",
       "temp            48204.0   281.205870    13.338232  0.0   272.16   282.45   \n",
       "rain_1h         48204.0     0.334264    44.789133  0.0     0.00     0.00   \n",
       "snow_1h         48204.0     0.000222     0.008168  0.0     0.00     0.00   \n",
       "clouds_all      48204.0    49.362231    39.015750  0.0     1.00    64.00   \n",
       "traffic_volume  48204.0  3259.818355  1986.860670  0.0  1193.00  3380.00   \n",
       "\n",
       "                     75%      max  \n",
       "temp             291.806   310.07  \n",
       "rain_1h            0.000  9831.30  \n",
       "snow_1h            0.000     0.51  \n",
       "clouds_all        90.000   100.00  \n",
       "traffic_volume  4933.000  7280.00  "
      ]
     },
     "execution_count": 8,
     "metadata": {},
     "output_type": "execute_result"
    }
   ],
   "source": [
    "traffic.describe().T             "
   ]
  },
  {
   "cell_type": "markdown",
   "metadata": {},
   "source": [
    "#### Coverting the time column format"
   ]
  },
  {
   "cell_type": "code",
   "execution_count": 479,
   "metadata": {},
   "outputs": [],
   "source": [
    "time_s = d_t.map(datetime.datetime.timestamp)  "
   ]
  },
  {
   "cell_type": "markdown",
   "metadata": {},
   "source": [
    "#### Using sin and cos to convert the time for time of the day and also time of the year"
   ]
  },
  {
   "cell_type": "code",
   "execution_count": 480,
   "metadata": {},
   "outputs": [],
   "source": [
    "tempdays = 24*60*60            \n",
    "tempyears = (365.2425)*tempdays  \n",
    "\n",
    "traffic['Day sin'] = np.sin(time_s * (2 * np.pi / tempdays))  \n",
    "traffic['Day cos'] = np.cos(time_s * (2 * np.pi / tempdays))  \n",
    "traffic['Year sin'] = np.sin(time_s * (2 * np.pi / tempyears))\n",
    "traffic['Year cos'] = np.cos(time_s * (2 * np.pi / tempyears)) "
   ]
  },
  {
   "cell_type": "code",
   "execution_count": 481,
   "metadata": {},
   "outputs": [],
   "source": [
    "data = traffic[['traffic_volume','temp', 'rain_1h', 'snow_1h', 'clouds_all','Day sin',\n",
    "       'Day cos', 'Year sin', 'Year cos']]                                              "
   ]
  },
  {
   "cell_type": "markdown",
   "metadata": {},
   "source": [
    "#### Spilt train and test dataset in this case 70% for training, 20% for validation and 10% for testing.\n",
    "#### Accoring to the tensorflow.org tutorials."
   ]
  },
  {
   "cell_type": "code",
   "execution_count": 482,
   "metadata": {},
   "outputs": [],
   "source": [
    "colIndice = {}                                                                          \n",
    "for value, TempName in enumerate(data.columns):       \n",
    "    colIndice[TempName] = value                       \n",
    "tempNum = len(data)                                   \n",
    "train_data = data[0:int(tempNum*0.7)]                 \n",
    "valid_data = data[int(tempNum*0.7):int(tempNum*0.9)] \n",
    "test_data = data[int(tempNum*0.9):]                   \n",
    "\n",
    "temp_feature = data.shape[1]                          "
   ]
  },
  {
   "cell_type": "code",
   "execution_count": 483,
   "metadata": {},
   "outputs": [
    {
     "data": {
      "text/plain": [
       "((33742, 9), (9641, 9), (4821, 9))"
      ]
     },
     "execution_count": 483,
     "metadata": {},
     "output_type": "execute_result"
    }
   ],
   "source": [
    "train_data.shape, valid_data.shape, test_data.shape  "
   ]
  },
  {
   "cell_type": "markdown",
   "metadata": {},
   "source": [
    "#### Normalize the data"
   ]
  },
  {
   "cell_type": "code",
   "execution_count": 484,
   "metadata": {},
   "outputs": [],
   "source": [
    "TempTrain_mean = train_data.mean()  \n",
    "TempTrain_std = train_data.std()    \n",
    "\n",
    "train_data = (train_data - TempTrain_mean) / TempTrain_std \n",
    "valid_data = (valid_data - TempTrain_mean) / TempTrain_std  \n",
    "test_data = (test_data - TempTrain_mean) / TempTrain_std    "
   ]
  },
  {
   "cell_type": "markdown",
   "metadata": {},
   "source": [
    "#### Creating the window generator follow from tutorial tensorflow"
   ]
  },
  {
   "cell_type": "code",
   "execution_count": 485,
   "metadata": {},
   "outputs": [],
   "source": [
    "class Generator():                                                        \n",
    "    \n",
    "    def __init__(self, input_w, label_w, DTshift,                           \n",
    "        train_data=train_data, valid_data=valid_data, test_data=test_data,  \n",
    "        name_col=None):                                                     \n",
    "\n",
    "        self.train_data = train_data                                        \n",
    "        self.valid_data = valid_data                                      \n",
    "        self.test_data = test_data                                          \n",
    "\n",
    "        self.name_col = name_col                                           \n",
    "         \n",
    "        if name_col is not None:                                       \n",
    "            self.name_col_idx = {}                                    \n",
    "            for value, TempName in enumerate(name_col):                 \n",
    "                self.name_col_idx[TempName] = value                  \n",
    "        self.col_idx = {}                                               \n",
    "        for value, TempName in enumerate(train_data.columns):           \n",
    "            self.col_idx[TempName] = value                          \n",
    "                                                                             \n",
    "        self.input_w = input_w                                          \n",
    "        self.label_w = label_w                                          \n",
    "        self.DTshift = DTshift                                          \n",
    "\n",
    "        self.windowdim = input_w + DTshift                             \n",
    "\n",
    "        self.in_cut = slice(0, input_w)                        \n",
    "                                                               \n",
    "        self.in_idx = np.arange(self.windowdim)[self.in_cut] \n",
    "                                                              \n",
    "        self.lbl_cut = slice(self.windowdim - self.label_w, None)  \n",
    "                                                                \n",
    "        self.lbl_idx = np.arange(self.windowdim)[self.lbl_cut] \n",
    "                                                               \n",
    "\n",
    "    def __repr__(self):                                \n",
    "        return '\\n'.join([                             \n",
    "            f'Total window size: {self.windowdim}',    \n",
    "            f'Input indices: {self.in_idx}',          \n",
    "            f'Label indices: {self.lbl_idx}',          \n",
    "            f'Label column name: {self.name_col}'])    "
   ]
  },
  {
   "cell_type": "markdown",
   "metadata": {},
   "source": [
    "#### Function split for input and their name"
   ]
  },
  {
   "cell_type": "code",
   "execution_count": 486,
   "metadata": {},
   "outputs": [],
   "source": [
    "\n",
    "def WindowDivide(self, feat):                      \n",
    "    myInput = feat[:, self.in_cut, :]            \n",
    "    myLabel = feat[:, self.lbl_cut, :]            \n",
    "    if self.name_col is not None:                   \n",
    "        myLabel = tf.stack([myLabel[:, :, self.col_idx[TempName]] \n",
    "                    for TempName in self.name_col],axis=-1)      \n",
    "    myInput.set_shape([None, self.input_w, None]) \n",
    "    myLabel.set_shape([None, self.label_w, None])   \n",
    "\n",
    "    return myInput, myLabel                      \n",
    "\n",
    "Generator.WindowDivide = WindowDivide  "
   ]
  },
  {
   "cell_type": "markdown",
   "metadata": {},
   "source": [
    "#### Function for making the data and return these parameters"
   ]
  },
  {
   "cell_type": "code",
   "execution_count": 487,
   "metadata": {},
   "outputs": [],
   "source": [
    "def CreateDT(self, DT):                \n",
    "    DT = np.array(DT, dtype=np.float32)\n",
    "    mySet = timeseries_dataset_from_array(  \n",
    "                                                  \n",
    "      data = DT,                                  \n",
    "      targets=None,                               \n",
    "      sequence_length = self.windowdim,          \n",
    "      sequence_stride = 1,                      \n",
    "      shuffle=False,                            \n",
    "      batch_size=32,)                            \n",
    "\n",
    "    mySet = mySet.map(self.WindowDivide)           \n",
    "\n",
    "    return mySet                                  \n",
    "\n",
    "Generator.CreateDT = CreateDT                     "
   ]
  },
  {
   "cell_type": "markdown",
   "metadata": {},
   "source": [
    "#### Collecting the object into property and then return these values"
   ]
  },
  {
   "cell_type": "code",
   "execution_count": 488,
   "metadata": {},
   "outputs": [],
   "source": [
    "@property\n",
    "def train(self):                             \n",
    "    return self.CreateDT(self.train_data)    \n",
    "\n",
    "@property\n",
    "def val(self):                               \n",
    "    return self.CreateDT(self.valid_data)    \n",
    "\n",
    "@property\n",
    "def test(self):                                                      \n",
    "    return self.CreateDT(self.test_data)    \n",
    "@property\n",
    "def example(self):                           \n",
    "    res = getattr(self, '_example', None)  \n",
    "                                            \n",
    "    if res is None:                        \n",
    "        res = next(iter(self.train))        \n",
    "        self._example = res                \n",
    "    return res                               \n",
    "\n",
    "Generator.train = train                      \n",
    "Generator.val = val                       \n",
    "Generator.test = test                       \n",
    "Generator.example = example                "
   ]
  },
  {
   "cell_type": "markdown",
   "metadata": {},
   "source": [
    "## Base model"
   ]
  },
  {
   "cell_type": "code",
   "execution_count": 489,
   "metadata": {},
   "outputs": [
    {
     "data": {
      "text/plain": [
       "Total window size: 9\n",
       "Input indices: [0 1 2 3 4 5]\n",
       "Label indices: [8]\n",
       "Label column name: ['traffic_volume']"
      ]
     },
     "execution_count": 489,
     "metadata": {},
     "output_type": "execute_result"
    }
   ],
   "source": [
    "window = Generator(                \n",
    "    input_w=6, label_w=1, DTshift=3, \n",
    "    name_col=['traffic_volume'])   \n",
    "\n",
    "window                          "
   ]
  },
  {
   "cell_type": "code",
   "execution_count": 494,
   "metadata": {},
   "outputs": [],
   "source": [
    "model1 = Sequential()                        \n",
    "model1.add(LSTM(128, return_sequences=True)) \n",
    "model1.add(Dropout(0.1))                   \n",
    "model1.add(LSTM(64, return_sequences=True))  \n",
    "model1.add(Dense(1))                        "
   ]
  },
  {
   "cell_type": "code",
   "execution_count": 495,
   "metadata": {},
   "outputs": [],
   "source": [
    "early_stopping1 = tf.keras.callbacks.EarlyStopping(monitor='val_loss' \n",
    "                , patience=10, mode='min') "
   ]
  },
  {
   "cell_type": "code",
   "execution_count": 496,
   "metadata": {},
   "outputs": [],
   "source": [
    "model1.compile(loss=tf.losses.MeanSquaredLogarithmicError(), \n",
    "                  optimizer=tf.optimizers.Adam(),            \n",
    "                  metrics=[tf.metrics.MeanAbsoluteError()])  "
   ]
  },
  {
   "cell_type": "code",
   "execution_count": 497,
   "metadata": {},
   "outputs": [
    {
     "name": "stdout",
     "output_type": "stream",
     "text": [
      "Input shape: (32, 6, 9)\n",
      "Output shape: (32, 6, 1)\n"
     ]
    }
   ],
   "source": [
    "print('Input shape:', window.example[0].shape)           \n",
    "print('Output shape:', model1(window.example[0]).shape)  "
   ]
  },
  {
   "cell_type": "code",
   "execution_count": 498,
   "metadata": {},
   "outputs": [
    {
     "name": "stdout",
     "output_type": "stream",
     "text": [
      "Epoch 1/30\n",
      "1055/1055 [==============================] - 8s 7ms/step - loss: 0.0690 - mean_absolute_error: 0.6778 - val_loss: 0.0584 - val_mean_absolute_error: 0.6513\n",
      "Epoch 2/30\n",
      "1055/1055 [==============================] - 8s 7ms/step - loss: 0.0587 - mean_absolute_error: 0.5971 - val_loss: 0.0501 - val_mean_absolute_error: 0.5664\n",
      "Epoch 3/30\n",
      "1055/1055 [==============================] - 7s 7ms/step - loss: 0.0543 - mean_absolute_error: 0.5798 - val_loss: 0.0444 - val_mean_absolute_error: 0.5526\n",
      "Epoch 4/30\n",
      "1055/1055 [==============================] - 8s 7ms/step - loss: 0.0514 - mean_absolute_error: 0.5703 - val_loss: 0.0426 - val_mean_absolute_error: 0.5260\n",
      "Epoch 5/30\n",
      "1055/1055 [==============================] - 8s 7ms/step - loss: 0.0491 - mean_absolute_error: 0.5648 - val_loss: 0.0416 - val_mean_absolute_error: 0.5323\n",
      "Epoch 6/30\n",
      "1055/1055 [==============================] - 7s 7ms/step - loss: 0.0474 - mean_absolute_error: 0.5630 - val_loss: 0.0405 - val_mean_absolute_error: 0.5280\n",
      "Epoch 7/30\n",
      "1055/1055 [==============================] - 8s 8ms/step - loss: 0.0461 - mean_absolute_error: 0.5646 - val_loss: 0.0389 - val_mean_absolute_error: 0.5289\n",
      "Epoch 8/30\n",
      "1055/1055 [==============================] - 8s 8ms/step - loss: 0.0449 - mean_absolute_error: 0.5657 - val_loss: 0.0378 - val_mean_absolute_error: 0.5380\n",
      "Epoch 9/30\n",
      "1055/1055 [==============================] - 7s 7ms/step - loss: 0.0440 - mean_absolute_error: 0.5655 - val_loss: 0.0373 - val_mean_absolute_error: 0.5358\n",
      "Epoch 10/30\n",
      "1055/1055 [==============================] - 7s 7ms/step - loss: 0.0432 - mean_absolute_error: 0.5682 - val_loss: 0.0366 - val_mean_absolute_error: 0.5380\n",
      "Epoch 11/30\n",
      "1055/1055 [==============================] - 7s 7ms/step - loss: 0.0424 - mean_absolute_error: 0.5693 - val_loss: 0.0362 - val_mean_absolute_error: 0.5319\n",
      "Epoch 12/30\n",
      "1055/1055 [==============================] - 8s 7ms/step - loss: 0.0419 - mean_absolute_error: 0.5706 - val_loss: 0.0359 - val_mean_absolute_error: 0.5373\n",
      "Epoch 13/30\n",
      "1055/1055 [==============================] - 8s 8ms/step - loss: 0.0413 - mean_absolute_error: 0.5702 - val_loss: 0.0354 - val_mean_absolute_error: 0.5394\n",
      "Epoch 14/30\n",
      "1055/1055 [==============================] - 9s 9ms/step - loss: 0.0409 - mean_absolute_error: 0.5696 - val_loss: 0.0362 - val_mean_absolute_error: 0.5389\n",
      "Epoch 15/30\n",
      "1055/1055 [==============================] - 9s 9ms/step - loss: 0.0403 - mean_absolute_error: 0.5684 - val_loss: 0.0349 - val_mean_absolute_error: 0.5397\n",
      "Epoch 16/30\n",
      "1055/1055 [==============================] - 9s 9ms/step - loss: 0.0400 - mean_absolute_error: 0.5662 - val_loss: 0.0352 - val_mean_absolute_error: 0.5328\n",
      "Epoch 17/30\n",
      "1055/1055 [==============================] - 9s 9ms/step - loss: 0.0396 - mean_absolute_error: 0.5641 - val_loss: 0.0344 - val_mean_absolute_error: 0.5317\n",
      "Epoch 18/30\n",
      "1055/1055 [==============================] - 9s 9ms/step - loss: 0.0393 - mean_absolute_error: 0.5631 - val_loss: 0.0346 - val_mean_absolute_error: 0.5298\n",
      "Epoch 19/30\n",
      "1055/1055 [==============================] - 9s 8ms/step - loss: 0.0389 - mean_absolute_error: 0.5617 - val_loss: 0.0338 - val_mean_absolute_error: 0.5267\n",
      "Epoch 20/30\n",
      "1055/1055 [==============================] - 8s 8ms/step - loss: 0.0387 - mean_absolute_error: 0.5627 - val_loss: 0.0336 - val_mean_absolute_error: 0.5263\n",
      "Epoch 21/30\n",
      "1055/1055 [==============================] - 8s 8ms/step - loss: 0.0383 - mean_absolute_error: 0.5608 - val_loss: 0.0335 - val_mean_absolute_error: 0.5233\n",
      "Epoch 22/30\n",
      "1055/1055 [==============================] - 8s 8ms/step - loss: 0.0380 - mean_absolute_error: 0.5594 - val_loss: 0.0333 - val_mean_absolute_error: 0.5221\n",
      "Epoch 23/30\n",
      "1055/1055 [==============================] - 8s 8ms/step - loss: 0.0376 - mean_absolute_error: 0.5568 - val_loss: 0.0331 - val_mean_absolute_error: 0.5141\n",
      "Epoch 24/30\n",
      "1055/1055 [==============================] - 9s 9ms/step - loss: 0.0373 - mean_absolute_error: 0.5544 - val_loss: 0.0334 - val_mean_absolute_error: 0.5177\n",
      "Epoch 25/30\n",
      "1055/1055 [==============================] - 9s 9ms/step - loss: 0.0371 - mean_absolute_error: 0.5560 - val_loss: 0.0329 - val_mean_absolute_error: 0.5162\n",
      "Epoch 26/30\n",
      "1055/1055 [==============================] - 9s 9ms/step - loss: 0.0368 - mean_absolute_error: 0.5544 - val_loss: 0.0330 - val_mean_absolute_error: 0.5126\n",
      "Epoch 27/30\n",
      "1055/1055 [==============================] - 9s 8ms/step - loss: 0.0365 - mean_absolute_error: 0.5525 - val_loss: 0.0330 - val_mean_absolute_error: 0.5143\n",
      "Epoch 28/30\n",
      "1055/1055 [==============================] - 9s 8ms/step - loss: 0.0362 - mean_absolute_error: 0.5513 - val_loss: 0.0329 - val_mean_absolute_error: 0.5133\n",
      "Epoch 29/30\n",
      "1055/1055 [==============================] - 9s 8ms/step - loss: 0.0359 - mean_absolute_error: 0.5488 - val_loss: 0.0325 - val_mean_absolute_error: 0.5085\n",
      "Epoch 30/30\n",
      "1055/1055 [==============================] - 9s 8ms/step - loss: 0.0358 - mean_absolute_error: 0.5459 - val_loss: 0.0324 - val_mean_absolute_error: 0.5074\n"
     ]
    }
   ],
   "source": [
    "history = model1.fit(window.train, epochs = 30, batch_size = 32,    \n",
    "            validation_data=window.val, callbacks=[early_stopping1]) "
   ]
  },
  {
   "cell_type": "code",
   "execution_count": 499,
   "metadata": {},
   "outputs": [
    {
     "data": {
      "image/png": "[encoded data removed]",
      "text/plain": [
       "<Figure size 576x360 with 1 Axes>"
      ]
     },
     "metadata": {
      "needs_background": "light"
     },
     "output_type": "display_data"
    }
   ],
   "source": [
    "\n",
    "plt.figure(figsize=(8, 5))\n",
    "plt.title('MAE')\n",
    "plt.plot(history.history['mean_absolute_error'], label='train')\n",
    "plt.plot(history.history['val_mean_absolute_error'], label='Valid')\n",
    "plt.xlabel('Epoch')\n",
    "plt.ylabel('value')\n",
    "plt.legend(loc='lower right')\n",
    "plt.show()"
   ]
  },
  {
   "cell_type": "code",
   "execution_count": 500,
   "metadata": {},
   "outputs": [],
   "source": [
    "mytest = test_data.iloc[8:]  "
   ]
  },
  {
   "cell_type": "code",
   "execution_count": 501,
   "metadata": {},
   "outputs": [],
   "source": [
    "myDim = np.expand_dims(mytest, axis=0)"
   ]
  },
  {
   "cell_type": "code",
   "execution_count": 505,
   "metadata": {},
   "outputs": [],
   "source": [
    "predictions1 = model1.predict(myDim)"
   ]
  },
  {
   "cell_type": "code",
   "execution_count": 506,
   "metadata": {},
   "outputs": [
    {
     "data": {
      "text/plain": [
       "(4813, 1)"
      ]
     },
     "execution_count": 506,
     "metadata": {},
     "output_type": "execute_result"
    }
   ],
   "source": [
    "temp0 = predictions1.shape[0]    \n",
    "temp1 = predictions1.shape[1]   \n",
    "temp2 = predictions1.shape[2]   \n",
    "p1 = predictions1.reshape((temp1, temp0 * temp2))  \n",
    "p1.shape                                           "
   ]
  },
  {
   "cell_type": "code",
   "execution_count": 507,
   "metadata": {},
   "outputs": [
    {
     "data": {
      "text/plain": [
       "array([[ 0.15300697],\n",
       "       [ 0.7145269 ],\n",
       "       [ 0.75987875],\n",
       "       ...,\n",
       "       [-0.5368642 ],\n",
       "       [-0.594569  ],\n",
       "       [-0.5679952 ]], dtype=float32)"
      ]
     },
     "execution_count": 507,
     "metadata": {},
     "output_type": "execute_result"
    }
   ],
   "source": [
    "p1 "
   ]
  },
  {
   "cell_type": "code",
   "execution_count": 508,
   "metadata": {},
   "outputs": [
    {
     "data": {
      "text/plain": [
       "(4813, 1)"
      ]
     },
     "execution_count": 508,
     "metadata": {},
     "output_type": "execute_result"
    }
   ],
   "source": [
    "Dnorm = (p1 * TempTrain_std[0]) + TempTrain_mean[0]   \n",
    "                                                     \n",
    "Dnorm.shape"
   ]
  },
  {
   "cell_type": "code",
   "execution_count": 510,
   "metadata": {},
   "outputs": [
    {
     "data": {
      "text/html": [
       "<div>\n",
       "<style scoped>\n",
       "    .dataframe tbody tr th:only-of-type {\n",
       "        vertical-align: middle;\n",
       "    }\n",
       "\n",
       "    .dataframe tbody tr th {\n",
       "        vertical-align: top;\n",
       "    }\n",
       "\n",
       "    .dataframe thead th {\n",
       "        text-align: right;\n",
       "    }\n",
       "</style>\n",
       "<table border=\"1\" class=\"dataframe\">\n",
       "  <thead>\n",
       "    <tr style=\"text-align: right;\">\n",
       "      <th></th>\n",
       "      <th>id</th>\n",
       "      <th>prediction</th>\n",
       "    </tr>\n",
       "  </thead>\n",
       "  <tbody>\n",
       "    <tr>\n",
       "      <th>0</th>\n",
       "      <td>43391</td>\n",
       "      <td>3545.121582</td>\n",
       "    </tr>\n",
       "    <tr>\n",
       "      <th>1</th>\n",
       "      <td>43392</td>\n",
       "      <td>4663.463379</td>\n",
       "    </tr>\n",
       "    <tr>\n",
       "      <th>2</th>\n",
       "      <td>43393</td>\n",
       "      <td>4753.787598</td>\n",
       "    </tr>\n",
       "    <tr>\n",
       "      <th>3</th>\n",
       "      <td>43394</td>\n",
       "      <td>5012.832031</td>\n",
       "    </tr>\n",
       "    <tr>\n",
       "      <th>4</th>\n",
       "      <td>43395</td>\n",
       "      <td>4777.017578</td>\n",
       "    </tr>\n",
       "  </tbody>\n",
       "</table>\n",
       "</div>"
      ],
      "text/plain": [
       "      id   prediction\n",
       "0  43391  3545.121582\n",
       "1  43392  4663.463379\n",
       "2  43393  4753.787598\n",
       "3  43394  5012.832031\n",
       "4  43395  4777.017578"
      ]
     },
     "execution_count": 510,
     "metadata": {},
     "output_type": "execute_result"
    }
   ],
   "source": [
    "res1 = Dnorm.flatten()    \n",
    "myres = zip()            \n",
    "finalRes = []             \n",
    "myres = zip(mytest.iloc[:,0].index , res1)  \n",
    "finalRes = list(myres)                        \n",
    "model1 = pd.DataFrame(finalRes, columns = ['id', 'prediction'])  \n",
    "model1.head()         "
   ]
  },
  {
   "cell_type": "code",
   "execution_count": 511,
   "metadata": {},
   "outputs": [],
   "source": [
    "model1.to_csv('kaggle1.csv', index=False)  "
   ]
  },
  {
   "cell_type": "markdown",
   "metadata": {},
   "source": [
    "## Model 2 change loss function to Mean Square Error and add more LSTM layer"
   ]
  },
  {
   "cell_type": "code",
   "execution_count": 131,
   "metadata": {},
   "outputs": [],
   "source": [
    "model2 = Sequential()                        \n",
    "model2.add(LSTM(128, return_sequences=True)) \n",
    "model2.add(Activation('relu'))               \n",
    "model2.add(LSTM(64, return_sequences=True))  \n",
    "model2.add(Activation('linear'))             \n",
    "model2.add(Dropout(0.1))                    \n",
    "model2.add(LSTM(32,return_sequences=True))   \n",
    "model2.add(Dense(1))                         "
   ]
  },
  {
   "cell_type": "code",
   "execution_count": 132,
   "metadata": {},
   "outputs": [],
   "source": [
    "early_stopping2 = tf.keras.callbacks.EarlyStopping(\n",
    "                  monitor='val_loss'                \n",
    "                ,patience=5, mode='min')          "
   ]
  },
  {
   "cell_type": "code",
   "execution_count": 133,
   "metadata": {},
   "outputs": [],
   "source": [
    "model2.compile(loss=tf.losses.MeanSquaredError(),     \n",
    "                optimizer=tf.optimizers.Adam(),          \n",
    "                metrics=[tf.metrics.MeanAbsoluteError()]) "
   ]
  },
  {
   "cell_type": "code",
   "execution_count": 134,
   "metadata": {},
   "outputs": [
    {
     "name": "stdout",
     "output_type": "stream",
     "text": [
      "Input shape: (32, 6, 9)\n",
      "Output shape: (32, 6, 1)\n"
     ]
    }
   ],
   "source": [
    "print('Input shape:', window.example[0].shape)         \n",
    "print('Output shape:', model2(window.example[0]).shape) "
   ]
  },
  {
   "cell_type": "code",
   "execution_count": 135,
   "metadata": {},
   "outputs": [
    {
     "name": "stdout",
     "output_type": "stream",
     "text": [
      "Epoch 1/30\n",
      "1055/1055 [==============================] - 10s 9ms/step - loss: 0.4933 - mean_absolute_error: 0.5358 - val_loss: 0.3493 - val_mean_absolute_error: 0.4443\n",
      "Epoch 2/30\n",
      "1055/1055 [==============================] - 10s 9ms/step - loss: 0.4022 - mean_absolute_error: 0.4647 - val_loss: 0.3179 - val_mean_absolute_error: 0.4156\n",
      "Epoch 3/30\n",
      "1055/1055 [==============================] - 10s 9ms/step - loss: 0.3707 - mean_absolute_error: 0.4397 - val_loss: 0.2926 - val_mean_absolute_error: 0.3908\n",
      "Epoch 4/30\n",
      "1055/1055 [==============================] - 9s 9ms/step - loss: 0.3470 - mean_absolute_error: 0.4204 - val_loss: 0.2740 - val_mean_absolute_error: 0.3733\n",
      "Epoch 5/30\n",
      "1055/1055 [==============================] - 9s 9ms/step - loss: 0.3324 - mean_absolute_error: 0.4080 - val_loss: 0.2614 - val_mean_absolute_error: 0.3625\n",
      "Epoch 6/30\n",
      "1055/1055 [==============================] - 9s 9ms/step - loss: 0.3223 - mean_absolute_error: 0.3992 - val_loss: 0.2550 - val_mean_absolute_error: 0.3556\n",
      "Epoch 7/30\n",
      "1055/1055 [==============================] - 9s 9ms/step - loss: 0.3146 - mean_absolute_error: 0.3921 - val_loss: 0.2499 - val_mean_absolute_error: 0.3508\n",
      "Epoch 8/30\n",
      "1055/1055 [==============================] - 9s 9ms/step - loss: 0.3072 - mean_absolute_error: 0.3857 - val_loss: 0.2454 - val_mean_absolute_error: 0.3459\n",
      "Epoch 9/30\n",
      "1055/1055 [==============================] - 9s 9ms/step - loss: 0.3019 - mean_absolute_error: 0.3805 - val_loss: 0.2414 - val_mean_absolute_error: 0.3415\n",
      "Epoch 10/30\n",
      "1055/1055 [==============================] - 9s 9ms/step - loss: 0.2967 - mean_absolute_error: 0.3758 - val_loss: 0.2372 - val_mean_absolute_error: 0.3372\n",
      "Epoch 11/30\n",
      "1055/1055 [==============================] - 9s 9ms/step - loss: 0.2917 - mean_absolute_error: 0.3711 - val_loss: 0.2344 - val_mean_absolute_error: 0.3345\n",
      "Epoch 12/30\n",
      "1055/1055 [==============================] - 9s 9ms/step - loss: 0.2874 - mean_absolute_error: 0.3671 - val_loss: 0.2336 - val_mean_absolute_error: 0.3327\n",
      "Epoch 13/30\n",
      "1055/1055 [==============================] - 9s 9ms/step - loss: 0.2840 - mean_absolute_error: 0.3641 - val_loss: 0.2316 - val_mean_absolute_error: 0.3306\n",
      "Epoch 14/30\n",
      "1055/1055 [==============================] - 9s 9ms/step - loss: 0.2809 - mean_absolute_error: 0.3611 - val_loss: 0.2293 - val_mean_absolute_error: 0.3294\n",
      "Epoch 15/30\n",
      "1055/1055 [==============================] - 10s 9ms/step - loss: 0.2773 - mean_absolute_error: 0.3582 - val_loss: 0.2286 - val_mean_absolute_error: 0.3282\n",
      "Epoch 16/30\n",
      "1055/1055 [==============================] - 10s 10ms/step - loss: 0.2744 - mean_absolute_error: 0.3556 - val_loss: 0.2253 - val_mean_absolute_error: 0.3258\n",
      "Epoch 17/30\n",
      "1055/1055 [==============================] - 10s 10ms/step - loss: 0.2718 - mean_absolute_error: 0.3535 - val_loss: 0.2244 - val_mean_absolute_error: 0.3246\n",
      "Epoch 18/30\n",
      "1055/1055 [==============================] - 10s 10ms/step - loss: 0.2691 - mean_absolute_error: 0.3513 - val_loss: 0.2236 - val_mean_absolute_error: 0.3232\n",
      "Epoch 19/30\n",
      "1055/1055 [==============================] - 10s 10ms/step - loss: 0.2671 - mean_absolute_error: 0.3496 - val_loss: 0.2214 - val_mean_absolute_error: 0.3216\n",
      "Epoch 20/30\n",
      "1055/1055 [==============================] - 10s 9ms/step - loss: 0.2648 - mean_absolute_error: 0.3475 - val_loss: 0.2200 - val_mean_absolute_error: 0.3196\n",
      "Epoch 21/30\n",
      "1055/1055 [==============================] - 10s 9ms/step - loss: 0.2625 - mean_absolute_error: 0.3455 - val_loss: 0.2175 - val_mean_absolute_error: 0.3177\n",
      "Epoch 22/30\n",
      "1055/1055 [==============================] - 10s 9ms/step - loss: 0.2604 - mean_absolute_error: 0.3436 - val_loss: 0.2175 - val_mean_absolute_error: 0.3176\n",
      "Epoch 23/30\n",
      "1055/1055 [==============================] - 10s 9ms/step - loss: 0.2586 - mean_absolute_error: 0.3423 - val_loss: 0.2161 - val_mean_absolute_error: 0.3167\n",
      "Epoch 24/30\n",
      "1055/1055 [==============================] - 10s 10ms/step - loss: 0.2565 - mean_absolute_error: 0.3404 - val_loss: 0.2173 - val_mean_absolute_error: 0.3175\n",
      "Epoch 25/30\n",
      "1055/1055 [==============================] - 10s 10ms/step - loss: 0.2556 - mean_absolute_error: 0.3395 - val_loss: 0.2152 - val_mean_absolute_error: 0.3153\n",
      "Epoch 26/30\n",
      "1055/1055 [==============================] - 10s 10ms/step - loss: 0.2535 - mean_absolute_error: 0.3378 - val_loss: 0.2150 - val_mean_absolute_error: 0.3156\n",
      "Epoch 27/30\n",
      "1055/1055 [==============================] - 10s 10ms/step - loss: 0.2514 - mean_absolute_error: 0.3362 - val_loss: 0.2155 - val_mean_absolute_error: 0.3151\n",
      "Epoch 28/30\n",
      "1055/1055 [==============================] - 10s 10ms/step - loss: 0.2495 - mean_absolute_error: 0.3348 - val_loss: 0.2156 - val_mean_absolute_error: 0.3155\n",
      "Epoch 29/30\n",
      "1055/1055 [==============================] - 10s 10ms/step - loss: 0.2480 - mean_absolute_error: 0.3333 - val_loss: 0.2144 - val_mean_absolute_error: 0.3148\n",
      "Epoch 30/30\n",
      "1055/1055 [==============================] - 10s 10ms/step - loss: 0.2461 - mean_absolute_error: 0.3319 - val_loss: 0.2141 - val_mean_absolute_error: 0.3127\n"
     ]
    }
   ],
   "source": [
    "history2 = model2.fit(window.train, epochs = 30, batch_size = 32,   \n",
    "         validation_data = window.val, callbacks=[early_stopping2])"
   ]
  },
  {
   "cell_type": "code",
   "execution_count": 137,
   "metadata": {},
   "outputs": [
    {
     "data": {
      "image/png": "[encoded data removed]",
      "text/plain": [
       "<Figure size 576x360 with 1 Axes>"
      ]
     },
     "metadata": {
      "needs_background": "light"
     },
     "output_type": "display_data"
    }
   ],
   "source": [
    "\n",
    "plt.figure(figsize=(8, 5))\n",
    "plt.title('MAE')\n",
    "plt.plot(history2.history['mean_absolute_error'], label='train') \n",
    "plt.plot(history2.history['val_mean_absolute_error'], label='Valid') \n",
    "plt.xlabel('Epoch')  \n",
    "plt.ylabel('value')\n",
    "plt.legend(loc='lower right')\n",
    "plt.show()"
   ]
  },
  {
   "cell_type": "code",
   "execution_count": 138,
   "metadata": {},
   "outputs": [],
   "source": [
    "mytest2 = test_data.iloc[8:]  "
   ]
  },
  {
   "cell_type": "code",
   "execution_count": 139,
   "metadata": {},
   "outputs": [],
   "source": [
    "myDim2 = np.expand_dims(mytest2, axis=0)  "
   ]
  },
  {
   "cell_type": "code",
   "execution_count": 140,
   "metadata": {},
   "outputs": [],
   "source": [
    "predictions2 = model2.predict(myDim2) "
   ]
  },
  {
   "cell_type": "code",
   "execution_count": 141,
   "metadata": {},
   "outputs": [
    {
     "data": {
      "text/plain": [
       "(4813, 1)"
      ]
     },
     "execution_count": 141,
     "metadata": {},
     "output_type": "execute_result"
    }
   ],
   "source": [
    "temp0 = predictions2.shape[0]    \n",
    "temp1 = predictions2.shape[1]    \n",
    "temp2 = predictions2.shape[2]    \n",
    "p2 = predictions2.reshape((temp1, temp0 * temp2))  \n",
    "p2.shape "
   ]
  },
  {
   "cell_type": "code",
   "execution_count": 142,
   "metadata": {},
   "outputs": [
    {
     "data": {
      "text/plain": [
       "(4813, 1)"
      ]
     },
     "execution_count": 142,
     "metadata": {},
     "output_type": "execute_result"
    }
   ],
   "source": [
    "norm2 = (p2 * TempTrain_std[0]) + TempTrain_mean[0]   \n",
    "\n",
    "norm2.shape"
   ]
  },
  {
   "cell_type": "code",
   "execution_count": 143,
   "metadata": {},
   "outputs": [
    {
     "data": {
      "text/html": [
       "<div>\n",
       "<style scoped>\n",
       "    .dataframe tbody tr th:only-of-type {\n",
       "        vertical-align: middle;\n",
       "    }\n",
       "\n",
       "    .dataframe tbody tr th {\n",
       "        vertical-align: top;\n",
       "    }\n",
       "\n",
       "    .dataframe thead th {\n",
       "        text-align: right;\n",
       "    }\n",
       "</style>\n",
       "<table border=\"1\" class=\"dataframe\">\n",
       "  <thead>\n",
       "    <tr style=\"text-align: right;\">\n",
       "      <th></th>\n",
       "      <th>id</th>\n",
       "      <th>prediction</th>\n",
       "    </tr>\n",
       "  </thead>\n",
       "  <tbody>\n",
       "    <tr>\n",
       "      <th>0</th>\n",
       "      <td>43391</td>\n",
       "      <td>2120.577637</td>\n",
       "    </tr>\n",
       "    <tr>\n",
       "      <th>1</th>\n",
       "      <td>43392</td>\n",
       "      <td>5019.817383</td>\n",
       "    </tr>\n",
       "    <tr>\n",
       "      <th>2</th>\n",
       "      <td>43393</td>\n",
       "      <td>5152.572754</td>\n",
       "    </tr>\n",
       "    <tr>\n",
       "      <th>3</th>\n",
       "      <td>43394</td>\n",
       "      <td>5923.529297</td>\n",
       "    </tr>\n",
       "    <tr>\n",
       "      <th>4</th>\n",
       "      <td>43395</td>\n",
       "      <td>5889.802734</td>\n",
       "    </tr>\n",
       "  </tbody>\n",
       "</table>\n",
       "</div>"
      ],
      "text/plain": [
       "      id   prediction\n",
       "0  43391  2120.577637\n",
       "1  43392  5019.817383\n",
       "2  43393  5152.572754\n",
       "3  43394  5923.529297\n",
       "4  43395  5889.802734"
      ]
     },
     "execution_count": 143,
     "metadata": {},
     "output_type": "execute_result"
    }
   ],
   "source": [
    "res2 = norm2.flatten()   \n",
    "myres2 = zip()       \n",
    "finalRes2 = []           \n",
    "myres2 = zip(mytest2.iloc[:,0].index , res2)   \n",
    "finalRes2 = list(myres2)                       \n",
    "model2 = pd.DataFrame(finalRes2, columns = ['id', 'prediction'])\n",
    "model2.head()                             "
   ]
  },
  {
   "cell_type": "code",
   "execution_count": 144,
   "metadata": {},
   "outputs": [],
   "source": [
    "model2.to_csv('kaggle2.csv', index=False)   "
   ]
  },
  {
   "cell_type": "markdown",
   "metadata": {},
   "source": [
    "## Model 3 change to Bidirectional RNNs"
   ]
  },
  {
   "cell_type": "code",
   "execution_count": 261,
   "metadata": {},
   "outputs": [],
   "source": [
    "model3 = Sequential()                                        \n",
    "model3.add(Bidirectional(LSTM(128, return_sequences=True)))  \n",
    "model3.add(Activation('relu'))                               \n",
    "model3.add(Bidirectional(LSTM(64, return_sequences=True)))   \n",
    "model3.add(Activation('linear'))                             \n",
    "model3.add(Dropout(0.2))                                    \n",
    "model3.add(Bidirectional(LSTM(32, return_sequences=True)))   \n",
    "model3.add(Dense(1))                                        "
   ]
  },
  {
   "cell_type": "code",
   "execution_count": 262,
   "metadata": {},
   "outputs": [],
   "source": [
    "early_stopping3 = tf.keras.callbacks.EarlyStopping(        \n",
    "            monitor='val_loss', patience=10, mode='min')   "
   ]
  },
  {
   "cell_type": "code",
   "execution_count": 263,
   "metadata": {},
   "outputs": [],
   "source": [
    "model3.compile(loss=tf.losses.MeanSquaredError(),      \n",
    "                optimizer=tf.optimizers.Adam(),          \n",
    "                metrics=[tf.metrics.MeanAbsoluteError()]) "
   ]
  },
  {
   "cell_type": "code",
   "execution_count": 264,
   "metadata": {},
   "outputs": [
    {
     "name": "stdout",
     "output_type": "stream",
     "text": [
      "Input shape: (32, 6, 9)\n",
      "Output shape: (32, 6, 1)\n"
     ]
    }
   ],
   "source": [
    "print('Input shape:', window.example[0].shape)           \n",
    "print('Output shape:', model3(window.example[0]).shape) "
   ]
  },
  {
   "cell_type": "code",
   "execution_count": 265,
   "metadata": {},
   "outputs": [
    {
     "name": "stdout",
     "output_type": "stream",
     "text": [
      "Epoch 1/30\n",
      "1055/1055 [==============================] - 16s 15ms/step - loss: 0.3487 - mean_absolute_error: 0.4286 - val_loss: 0.2324 - val_mean_absolute_error: 0.3558\n",
      "Epoch 2/30\n",
      "1055/1055 [==============================] - 16s 15ms/step - loss: 0.2582 - mean_absolute_error: 0.3538 - val_loss: 0.1959 - val_mean_absolute_error: 0.3128\n",
      "Epoch 3/30\n",
      "1055/1055 [==============================] - 16s 15ms/step - loss: 0.2225 - mean_absolute_error: 0.3222 - val_loss: 0.1507 - val_mean_absolute_error: 0.2714\n",
      "Epoch 4/30\n",
      "1055/1055 [==============================] - 16s 15ms/step - loss: 0.2027 - mean_absolute_error: 0.3038 - val_loss: 0.1378 - val_mean_absolute_error: 0.2571\n",
      "Epoch 5/30\n",
      "1055/1055 [==============================] - 16s 15ms/step - loss: 0.1912 - mean_absolute_error: 0.2928 - val_loss: 0.1309 - val_mean_absolute_error: 0.2449\n",
      "Epoch 6/30\n",
      "1055/1055 [==============================] - 16s 15ms/step - loss: 0.1811 - mean_absolute_error: 0.2829 - val_loss: 0.1235 - val_mean_absolute_error: 0.2363\n",
      "Epoch 7/30\n",
      "1055/1055 [==============================] - 16s 16ms/step - loss: 0.1732 - mean_absolute_error: 0.2750 - val_loss: 0.1166 - val_mean_absolute_error: 0.2311\n",
      "Epoch 8/30\n",
      "1055/1055 [==============================] - 20s 19ms/step - loss: 0.1677 - mean_absolute_error: 0.2695 - val_loss: 0.1154 - val_mean_absolute_error: 0.2282\n",
      "Epoch 9/30\n",
      "1055/1055 [==============================] - 20s 19ms/step - loss: 0.1639 - mean_absolute_error: 0.2654 - val_loss: 0.1101 - val_mean_absolute_error: 0.2242\n",
      "Epoch 10/30\n",
      "1055/1055 [==============================] - 18s 17ms/step - loss: 0.1592 - mean_absolute_error: 0.2612 - val_loss: 0.1093 - val_mean_absolute_error: 0.2229\n",
      "Epoch 11/30\n",
      "1055/1055 [==============================] - 18s 17ms/step - loss: 0.1552 - mean_absolute_error: 0.2574 - val_loss: 0.1095 - val_mean_absolute_error: 0.2205\n",
      "Epoch 12/30\n",
      "1055/1055 [==============================] - 17s 16ms/step - loss: 0.1522 - mean_absolute_error: 0.2543 - val_loss: 0.1090 - val_mean_absolute_error: 0.2203\n",
      "Epoch 13/30\n",
      "1055/1055 [==============================] - 18s 17ms/step - loss: 0.1489 - mean_absolute_error: 0.2509 - val_loss: 0.1071 - val_mean_absolute_error: 0.2160\n",
      "Epoch 14/30\n",
      "1055/1055 [==============================] - 18s 17ms/step - loss: 0.1451 - mean_absolute_error: 0.2469 - val_loss: 0.1182 - val_mean_absolute_error: 0.2205\n",
      "Epoch 15/30\n",
      "1055/1055 [==============================] - 19s 18ms/step - loss: 0.1424 - mean_absolute_error: 0.2445 - val_loss: 0.1139 - val_mean_absolute_error: 0.2191\n",
      "Epoch 16/30\n",
      "1055/1055 [==============================] - 18s 17ms/step - loss: 0.1418 - mean_absolute_error: 0.2430 - val_loss: 0.1068 - val_mean_absolute_error: 0.2175\n",
      "Epoch 17/30\n",
      "1055/1055 [==============================] - 17s 16ms/step - loss: 0.1365 - mean_absolute_error: 0.2383 - val_loss: 0.1137 - val_mean_absolute_error: 0.2170\n",
      "Epoch 18/30\n",
      "1055/1055 [==============================] - 17s 16ms/step - loss: 0.1341 - mean_absolute_error: 0.2361 - val_loss: 0.1167 - val_mean_absolute_error: 0.2183\n",
      "Epoch 19/30\n",
      "1055/1055 [==============================] - 18s 17ms/step - loss: 0.1338 - mean_absolute_error: 0.2354 - val_loss: 0.1117 - val_mean_absolute_error: 0.2176\n",
      "Epoch 20/30\n",
      "1055/1055 [==============================] - 18s 17ms/step - loss: 0.1303 - mean_absolute_error: 0.2324 - val_loss: 0.1192 - val_mean_absolute_error: 0.2212\n",
      "Epoch 21/30\n",
      "1055/1055 [==============================] - 19s 18ms/step - loss: 0.1287 - mean_absolute_error: 0.2305 - val_loss: 0.1329 - val_mean_absolute_error: 0.2262\n",
      "Epoch 22/30\n",
      "1055/1055 [==============================] - 18s 17ms/step - loss: 0.1270 - mean_absolute_error: 0.2285 - val_loss: 0.1181 - val_mean_absolute_error: 0.2208\n",
      "Epoch 23/30\n",
      "1055/1055 [==============================] - 17s 16ms/step - loss: 0.1238 - mean_absolute_error: 0.2257 - val_loss: 0.1142 - val_mean_absolute_error: 0.2156\n",
      "Epoch 24/30\n",
      "1055/1055 [==============================] - 17s 16ms/step - loss: 0.1221 - mean_absolute_error: 0.2237 - val_loss: 0.1100 - val_mean_absolute_error: 0.2133\n",
      "Epoch 25/30\n",
      "1055/1055 [==============================] - 19s 18ms/step - loss: 0.1194 - mean_absolute_error: 0.2215 - val_loss: 0.1060 - val_mean_absolute_error: 0.2105\n",
      "Epoch 26/30\n",
      "1055/1055 [==============================] - 20s 19ms/step - loss: 0.1175 - mean_absolute_error: 0.2192 - val_loss: 0.1238 - val_mean_absolute_error: 0.2179\n",
      "Epoch 27/30\n",
      "1055/1055 [==============================] - 19s 18ms/step - loss: 0.1178 - mean_absolute_error: 0.2186 - val_loss: 0.1052 - val_mean_absolute_error: 0.2078\n",
      "Epoch 28/30\n",
      "1055/1055 [==============================] - 19s 18ms/step - loss: 0.1171 - mean_absolute_error: 0.2183 - val_loss: 0.1082 - val_mean_absolute_error: 0.2097\n",
      "Epoch 29/30\n",
      "1055/1055 [==============================] - 18s 17ms/step - loss: 0.1152 - mean_absolute_error: 0.2162 - val_loss: 0.1282 - val_mean_absolute_error: 0.2215\n",
      "Epoch 30/30\n",
      "1055/1055 [==============================] - 18s 17ms/step - loss: 0.1118 - mean_absolute_error: 0.2137 - val_loss: 0.1158 - val_mean_absolute_error: 0.2140\n"
     ]
    }
   ],
   "source": [
    "history3 = model3.fit(window.train, epochs=30,batch_size = 32,       \n",
    "           validation_data=window.val, callbacks=[early_stopping3]) "
   ]
  },
  {
   "cell_type": "code",
   "execution_count": 266,
   "metadata": {},
   "outputs": [
    {
     "data": {
      "image/png": "[encoded data removed]",
      "text/plain": [
       "<Figure size 576x360 with 1 Axes>"
      ]
     },
     "metadata": {
      "needs_background": "light"
     },
     "output_type": "display_data"
    }
   ],
   "source": [
    "plt.figure(figsize=(8, 5))\n",
    "plt.title('MAE')\n",
    "plt.plot(history3.history['mean_absolute_error'], label='train')\n",
    "plt.plot(history3.history['val_mean_absolute_error'], label='Valid')\n",
    "plt.xlabel('Epoch')\n",
    "plt.ylabel('value')\n",
    "plt.legend(loc='lower right')\n",
    "plt.show()"
   ]
  },
  {
   "cell_type": "code",
   "execution_count": 267,
   "metadata": {},
   "outputs": [],
   "source": [
    "mytest3 = test_data.iloc[8:]   "
   ]
  },
  {
   "cell_type": "code",
   "execution_count": 268,
   "metadata": {},
   "outputs": [],
   "source": [
    "myDim3 = np.expand_dims(mytest3, axis=0) "
   ]
  },
  {
   "cell_type": "code",
   "execution_count": 269,
   "metadata": {},
   "outputs": [],
   "source": [
    "predictions3 = model3.predict(myDim3)  "
   ]
  },
  {
   "cell_type": "code",
   "execution_count": 270,
   "metadata": {},
   "outputs": [
    {
     "data": {
      "text/plain": [
       "(4813, 1)"
      ]
     },
     "execution_count": 270,
     "metadata": {},
     "output_type": "execute_result"
    }
   ],
   "source": [
    "temp0 = predictions3.shape[0]    \n",
    "temp1 = predictions3.shape[1]   \n",
    "temp2 = predictions3.shape[2]    \n",
    "p3 = predictions3.reshape((temp1, temp0 * temp2))  \n",
    "p3.shape "
   ]
  },
  {
   "cell_type": "code",
   "execution_count": 271,
   "metadata": {},
   "outputs": [
    {
     "data": {
      "text/plain": [
       "(4813, 1)"
      ]
     },
     "execution_count": 271,
     "metadata": {},
     "output_type": "execute_result"
    }
   ],
   "source": [
    "norm3 = (p3 * TempTrain_std[0]) + TempTrain_mean[0]  \n",
    "                                                    \n",
    "norm3.shape"
   ]
  },
  {
   "cell_type": "code",
   "execution_count": 272,
   "metadata": {},
   "outputs": [
    {
     "data": {
      "text/html": [
       "<div>\n",
       "<style scoped>\n",
       "    .dataframe tbody tr th:only-of-type {\n",
       "        vertical-align: middle;\n",
       "    }\n",
       "\n",
       "    .dataframe tbody tr th {\n",
       "        vertical-align: top;\n",
       "    }\n",
       "\n",
       "    .dataframe thead th {\n",
       "        text-align: right;\n",
       "    }\n",
       "</style>\n",
       "<table border=\"1\" class=\"dataframe\">\n",
       "  <thead>\n",
       "    <tr style=\"text-align: right;\">\n",
       "      <th></th>\n",
       "      <th>id</th>\n",
       "      <th>prediction</th>\n",
       "    </tr>\n",
       "  </thead>\n",
       "  <tbody>\n",
       "    <tr>\n",
       "      <th>0</th>\n",
       "      <td>43391</td>\n",
       "      <td>3541.485840</td>\n",
       "    </tr>\n",
       "    <tr>\n",
       "      <th>1</th>\n",
       "      <td>43392</td>\n",
       "      <td>3730.816162</td>\n",
       "    </tr>\n",
       "    <tr>\n",
       "      <th>2</th>\n",
       "      <td>43393</td>\n",
       "      <td>3981.507324</td>\n",
       "    </tr>\n",
       "    <tr>\n",
       "      <th>3</th>\n",
       "      <td>43394</td>\n",
       "      <td>4277.433594</td>\n",
       "    </tr>\n",
       "    <tr>\n",
       "      <th>4</th>\n",
       "      <td>43395</td>\n",
       "      <td>4538.318359</td>\n",
       "    </tr>\n",
       "  </tbody>\n",
       "</table>\n",
       "</div>"
      ],
      "text/plain": [
       "      id   prediction\n",
       "0  43391  3541.485840\n",
       "1  43392  3730.816162\n",
       "2  43393  3981.507324\n",
       "3  43394  4277.433594\n",
       "4  43395  4538.318359"
      ]
     },
     "execution_count": 272,
     "metadata": {},
     "output_type": "execute_result"
    }
   ],
   "source": [
    "res3 = norm3.flatten()    \n",
    "myres3 = zip()            \n",
    "finalRes3 = []           \n",
    "myres3 = zip(mytest3.iloc[:,0].index , res3)     \n",
    "finalRes3 = list(myres3)                         \n",
    "model3 = pd.DataFrame(finalRes3, columns = ['id', 'prediction']) \n",
    "model3.head()                                 "
   ]
  },
  {
   "cell_type": "code",
   "execution_count": 273,
   "metadata": {},
   "outputs": [],
   "source": [
    "model3.to_csv('kaggle3.csv', index=False)    "
   ]
  },
  {
   "cell_type": "markdown",
   "metadata": {},
   "source": [
    "## Model 4 Using 1D Convolutional + RNN"
   ]
  },
  {
   "cell_type": "code",
   "execution_count": 367,
   "metadata": {},
   "outputs": [],
   "source": [
    "from keras.layers import Conv1D,MaxPooling2D,Flatten\n",
    "model4 = Sequential()                            \n",
    "model4.add(Conv1D(128, 1, activation='linear'))   \n",
    "model4.add(LSTM(64, return_sequences=True))      \n",
    "model4.add(Conv1D(128, 1, activation='linear'))   \n",
    "model4.add(LSTM(64, recurrent_dropout = 0.1, return_sequences=True))       \n",
    "model4.add(Dense(32, activation='linear'))        \n",
    "model4.add(Dense(1))                             "
   ]
  },
  {
   "cell_type": "code",
   "execution_count": 365,
   "metadata": {},
   "outputs": [],
   "source": [
    "early_stopping4 = tf.keras.callbacks.EarlyStopping(    \n",
    "           monitor='val_loss',patience=10, mode='min')  "
   ]
  },
  {
   "cell_type": "code",
   "execution_count": 368,
   "metadata": {},
   "outputs": [],
   "source": [
    "model4.compile(loss=tf.losses.MeanSquaredError(),       \n",
    "                optimizer=tf.optimizers.RMSprop(),      \n",
    "                metrics=[tf.metrics.MeanAbsoluteError()])      "
   ]
  },
  {
   "cell_type": "code",
   "execution_count": 369,
   "metadata": {},
   "outputs": [
    {
     "name": "stdout",
     "output_type": "stream",
     "text": [
      "Input shape: (32, 6, 9)\n",
      "Output shape: (32, 6, 1)\n"
     ]
    }
   ],
   "source": [
    "print('Input shape:', window.example[0].shape)                \n",
    "print('Output shape:', model4(window.example[0]).shape)     "
   ]
  },
  {
   "cell_type": "code",
   "execution_count": 370,
   "metadata": {},
   "outputs": [
    {
     "name": "stdout",
     "output_type": "stream",
     "text": [
      "Epoch 1/30\n",
      "1055/1055 [==============================] - 7s 6ms/step - loss: 0.4338 - mean_absolute_error: 0.4874 - val_loss: 0.3645 - val_mean_absolute_error: 0.4541\n",
      "Epoch 2/30\n",
      "1055/1055 [==============================] - 6s 6ms/step - loss: 0.3607 - mean_absolute_error: 0.4266 - val_loss: 0.3244 - val_mean_absolute_error: 0.4179\n",
      "Epoch 3/30\n",
      "1055/1055 [==============================] - 7s 6ms/step - loss: 0.3242 - mean_absolute_error: 0.3976 - val_loss: 0.2921 - val_mean_absolute_error: 0.3928\n",
      "Epoch 4/30\n",
      "1055/1055 [==============================] - 7s 7ms/step - loss: 0.3034 - mean_absolute_error: 0.3808 - val_loss: 0.2738 - val_mean_absolute_error: 0.3790\n",
      "Epoch 5/30\n",
      "1055/1055 [==============================] - 7s 6ms/step - loss: 0.2906 - mean_absolute_error: 0.3696 - val_loss: 0.2581 - val_mean_absolute_error: 0.3673\n",
      "Epoch 6/30\n",
      "1055/1055 [==============================] - 7s 6ms/step - loss: 0.2818 - mean_absolute_error: 0.3614 - val_loss: 0.2473 - val_mean_absolute_error: 0.3580\n",
      "Epoch 7/30\n",
      "1055/1055 [==============================] - 7s 7ms/step - loss: 0.2753 - mean_absolute_error: 0.3554 - val_loss: 0.2404 - val_mean_absolute_error: 0.3511\n",
      "Epoch 8/30\n",
      "1055/1055 [==============================] - 7s 6ms/step - loss: 0.2705 - mean_absolute_error: 0.3508 - val_loss: 0.2357 - val_mean_absolute_error: 0.3459\n",
      "Epoch 9/30\n",
      "1055/1055 [==============================] - 7s 7ms/step - loss: 0.2666 - mean_absolute_error: 0.3470 - val_loss: 0.2329 - val_mean_absolute_error: 0.3420\n",
      "Epoch 10/30\n",
      "1055/1055 [==============================] - 7s 7ms/step - loss: 0.2634 - mean_absolute_error: 0.3441 - val_loss: 0.2314 - val_mean_absolute_error: 0.3391\n",
      "Epoch 11/30\n",
      "1055/1055 [==============================] - 7s 7ms/step - loss: 0.2608 - mean_absolute_error: 0.3416 - val_loss: 0.2305 - val_mean_absolute_error: 0.3372\n",
      "Epoch 12/30\n",
      "1055/1055 [==============================] - 7s 6ms/step - loss: 0.2585 - mean_absolute_error: 0.3394 - val_loss: 0.2296 - val_mean_absolute_error: 0.3355\n",
      "Epoch 13/30\n",
      "1055/1055 [==============================] - 7s 6ms/step - loss: 0.2563 - mean_absolute_error: 0.3374 - val_loss: 0.2280 - val_mean_absolute_error: 0.3333\n",
      "Epoch 14/30\n",
      "1055/1055 [==============================] - 7s 6ms/step - loss: 0.2544 - mean_absolute_error: 0.3357 - val_loss: 0.2267 - val_mean_absolute_error: 0.3312\n",
      "Epoch 15/30\n",
      "1055/1055 [==============================] - 7s 6ms/step - loss: 0.2527 - mean_absolute_error: 0.3341 - val_loss: 0.2255 - val_mean_absolute_error: 0.3293\n",
      "Epoch 16/30\n",
      "1055/1055 [==============================] - 7s 6ms/step - loss: 0.2511 - mean_absolute_error: 0.3327 - val_loss: 0.2246 - val_mean_absolute_error: 0.3277\n",
      "Epoch 17/30\n",
      "1055/1055 [==============================] - 7s 6ms/step - loss: 0.2495 - mean_absolute_error: 0.3313 - val_loss: 0.2239 - val_mean_absolute_error: 0.3265\n",
      "Epoch 18/30\n",
      "1055/1055 [==============================] - 7s 6ms/step - loss: 0.2479 - mean_absolute_error: 0.3299 - val_loss: 0.2236 - val_mean_absolute_error: 0.3259\n",
      "Epoch 19/30\n",
      "1055/1055 [==============================] - 7s 7ms/step - loss: 0.2464 - mean_absolute_error: 0.3286 - val_loss: 0.2242 - val_mean_absolute_error: 0.3261\n",
      "Epoch 20/30\n",
      "1055/1055 [==============================] - 8s 7ms/step - loss: 0.2449 - mean_absolute_error: 0.3274 - val_loss: 0.2252 - val_mean_absolute_error: 0.3265\n",
      "Epoch 21/30\n",
      "1055/1055 [==============================] - 8s 7ms/step - loss: 0.2436 - mean_absolute_error: 0.3263 - val_loss: 0.2263 - val_mean_absolute_error: 0.3268\n",
      "Epoch 22/30\n",
      "1055/1055 [==============================] - 8s 7ms/step - loss: 0.2422 - mean_absolute_error: 0.3252 - val_loss: 0.2269 - val_mean_absolute_error: 0.3268\n",
      "Epoch 23/30\n",
      "1055/1055 [==============================] - 8s 7ms/step - loss: 0.2409 - mean_absolute_error: 0.3242 - val_loss: 0.2269 - val_mean_absolute_error: 0.3265\n",
      "Epoch 24/30\n",
      "1055/1055 [==============================] - 8s 7ms/step - loss: 0.2397 - mean_absolute_error: 0.3232 - val_loss: 0.2266 - val_mean_absolute_error: 0.3258\n",
      "Epoch 25/30\n",
      "1055/1055 [==============================] - 8s 7ms/step - loss: 0.2385 - mean_absolute_error: 0.3223 - val_loss: 0.2260 - val_mean_absolute_error: 0.3247\n",
      "Epoch 26/30\n",
      "1055/1055 [==============================] - 8s 7ms/step - loss: 0.2373 - mean_absolute_error: 0.3213 - val_loss: 0.2255 - val_mean_absolute_error: 0.3237\n",
      "Epoch 27/30\n",
      "1055/1055 [==============================] - 7s 7ms/step - loss: 0.2360 - mean_absolute_error: 0.3203 - val_loss: 0.2244 - val_mean_absolute_error: 0.3223\n",
      "Epoch 28/30\n",
      "1055/1055 [==============================] - 7s 7ms/step - loss: 0.2348 - mean_absolute_error: 0.3193 - val_loss: 0.2235 - val_mean_absolute_error: 0.3214\n",
      "Epoch 29/30\n",
      "1055/1055 [==============================] - 7s 7ms/step - loss: 0.2336 - mean_absolute_error: 0.3184 - val_loss: 0.2219 - val_mean_absolute_error: 0.3202\n",
      "Epoch 30/30\n",
      "1055/1055 [==============================] - 7s 7ms/step - loss: 0.2324 - mean_absolute_error: 0.3175 - val_loss: 0.2216 - val_mean_absolute_error: 0.3199\n"
     ]
    }
   ],
   "source": [
    "history4 = model4.fit(window.train, epochs = 30,batch_size = 64,  \n",
    "           validation_data=window.val, callbacks=[early_stopping4]) "
   ]
  },
  {
   "cell_type": "code",
   "execution_count": 373,
   "metadata": {},
   "outputs": [
    {
     "data": {
      "image/png": "[encoded data removed]",
      "text/plain": [
       "<Figure size 576x360 with 1 Axes>"
      ]
     },
     "metadata": {
      "needs_background": "light"
     },
     "output_type": "display_data"
    }
   ],
   "source": [
    "# plot the Mean absolute error between training and testing\n",
    "plt.figure(figsize=(8, 5))\n",
    "plt.title('MAE')\n",
    "plt.plot(history4.history['mean_absolute_error'], label='train')\n",
    "plt.plot(history4.history['val_mean_absolute_error'], label='Valid')\n",
    "plt.xlabel('Epoch')\n",
    "plt.ylabel('value')\n",
    "plt.legend(loc='lower right')\n",
    "plt.show()"
   ]
  },
  {
   "cell_type": "code",
   "execution_count": 374,
   "metadata": {},
   "outputs": [],
   "source": [
    "mytest4 = test_data.iloc[8:]  "
   ]
  },
  {
   "cell_type": "code",
   "execution_count": 375,
   "metadata": {},
   "outputs": [],
   "source": [
    "myDim4 = np.expand_dims(mytest4, axis=0) "
   ]
  },
  {
   "cell_type": "code",
   "execution_count": 376,
   "metadata": {},
   "outputs": [],
   "source": [
    "predictions4 = model4.predict(myDim4) "
   ]
  },
  {
   "cell_type": "code",
   "execution_count": 378,
   "metadata": {},
   "outputs": [
    {
     "data": {
      "text/plain": [
       "(4813, 1)"
      ]
     },
     "execution_count": 378,
     "metadata": {},
     "output_type": "execute_result"
    }
   ],
   "source": [
    "temp0 = predictions4.shape[0]    \n",
    "temp1 = predictions4.shape[1]   \n",
    "temp2 = predictions4.shape[2]    \n",
    "p4 = predictions4.reshape((temp1, temp0 * temp2))  \n",
    "p4.shape "
   ]
  },
  {
   "cell_type": "code",
   "execution_count": 379,
   "metadata": {},
   "outputs": [
    {
     "data": {
      "text/plain": [
       "(4813, 1)"
      ]
     },
     "execution_count": 379,
     "metadata": {},
     "output_type": "execute_result"
    }
   ],
   "source": [
    "norm4 = (p4 * TempTrain_std[0]) + TempTrain_mean[0]  \n",
    "                                                     \n",
    "norm4.shape"
   ]
  },
  {
   "cell_type": "code",
   "execution_count": 380,
   "metadata": {},
   "outputs": [
    {
     "data": {
      "text/html": [
       "<div>\n",
       "<style scoped>\n",
       "    .dataframe tbody tr th:only-of-type {\n",
       "        vertical-align: middle;\n",
       "    }\n",
       "\n",
       "    .dataframe tbody tr th {\n",
       "        vertical-align: top;\n",
       "    }\n",
       "\n",
       "    .dataframe thead th {\n",
       "        text-align: right;\n",
       "    }\n",
       "</style>\n",
       "<table border=\"1\" class=\"dataframe\">\n",
       "  <thead>\n",
       "    <tr style=\"text-align: right;\">\n",
       "      <th></th>\n",
       "      <th>id</th>\n",
       "      <th>prediction</th>\n",
       "    </tr>\n",
       "  </thead>\n",
       "  <tbody>\n",
       "    <tr>\n",
       "      <th>0</th>\n",
       "      <td>43391</td>\n",
       "      <td>2529.539795</td>\n",
       "    </tr>\n",
       "    <tr>\n",
       "      <th>1</th>\n",
       "      <td>43392</td>\n",
       "      <td>5450.198242</td>\n",
       "    </tr>\n",
       "    <tr>\n",
       "      <th>2</th>\n",
       "      <td>43393</td>\n",
       "      <td>3678.681396</td>\n",
       "    </tr>\n",
       "    <tr>\n",
       "      <th>3</th>\n",
       "      <td>43394</td>\n",
       "      <td>3806.701660</td>\n",
       "    </tr>\n",
       "    <tr>\n",
       "      <th>4</th>\n",
       "      <td>43395</td>\n",
       "      <td>4007.426758</td>\n",
       "    </tr>\n",
       "  </tbody>\n",
       "</table>\n",
       "</div>"
      ],
      "text/plain": [
       "      id   prediction\n",
       "0  43391  2529.539795\n",
       "1  43392  5450.198242\n",
       "2  43393  3678.681396\n",
       "3  43394  3806.701660\n",
       "4  43395  4007.426758"
      ]
     },
     "execution_count": 380,
     "metadata": {},
     "output_type": "execute_result"
    }
   ],
   "source": [
    "res4 = norm4.flatten()         \n",
    "myres4 = zip()               \n",
    "finalRes4 = []                  \n",
    "myres4 = zip(mytest4.iloc[:,0].index , res4)          \n",
    "finalRes4 = list(myres4)                               \n",
    "model4 = pd.DataFrame(finalRes4, columns = ['id', 'prediction']) \n",
    "model4.head()                    "
   ]
  },
  {
   "cell_type": "code",
   "execution_count": 381,
   "metadata": {},
   "outputs": [],
   "source": [
    "model4.to_csv('kaggle4.csv', index=False)    "
   ]
  },
  {
   "cell_type": "markdown",
   "metadata": {},
   "source": [
    "## Model 5 Using 1D convolutional + GRU"
   ]
  },
  {
   "cell_type": "code",
   "execution_count": 465,
   "metadata": {},
   "outputs": [],
   "source": [
    "from keras.layers import Conv1D,MaxPooling2D,Flatten, GRU\n",
    "model5 = Sequential()                            \n",
    "model5.add(Conv1D(128, 1, activation='linear'))   \n",
    "model5.add(GRU(64,return_sequences=True))        \n",
    "model5.add(Conv1D(64, 1, activation='linear'))   \n",
    "model5.add(GRU(32, recurrent_dropout = 0.2, return_sequences=True))  \n",
    "model5.add(Dense(32, activation='linear'))      \n",
    "model5.add(Dense(1))                            "
   ]
  },
  {
   "cell_type": "code",
   "execution_count": 466,
   "metadata": {},
   "outputs": [],
   "source": [
    "early_stopping5 = tf.keras.callbacks.EarlyStopping(     \n",
    "              monitor='val_loss',patience=10,mode='min') "
   ]
  },
  {
   "cell_type": "code",
   "execution_count": 467,
   "metadata": {},
   "outputs": [],
   "source": [
    "model5.compile(loss=tf.losses.MeanSquaredError(),    \n",
    "                optimizer=tf.optimizers.RMSprop(),   \n",
    "                metrics=[tf.metrics.MeanAbsoluteError()])  "
   ]
  },
  {
   "cell_type": "code",
   "execution_count": 468,
   "metadata": {},
   "outputs": [
    {
     "name": "stdout",
     "output_type": "stream",
     "text": [
      "Input shape: (32, 6, 9)\n",
      "Output shape: (32, 6, 1)\n"
     ]
    }
   ],
   "source": [
    "print('Input shape:', window.example[0].shape)          \n",
    "print('Output shape:', model5(window.example[0]).shape)"
   ]
  },
  {
   "cell_type": "code",
   "execution_count": 451,
   "metadata": {},
   "outputs": [
    {
     "name": "stdout",
     "output_type": "stream",
     "text": [
      "Epoch 1/30\n",
      "1055/1055 [==============================] - 8s 8ms/step - loss: 0.4393 - mean_absolute_error: 0.4897 - val_loss: 0.3992 - val_mean_absolute_error: 0.4864\n",
      "Epoch 2/30\n",
      "1055/1055 [==============================] - 9s 8ms/step - loss: 0.3468 - mean_absolute_error: 0.4191 - val_loss: 0.3277 - val_mean_absolute_error: 0.4340\n",
      "Epoch 3/30\n",
      "1055/1055 [==============================] - 9s 9ms/step - loss: 0.3089 - mean_absolute_error: 0.3878 - val_loss: 0.2932 - val_mean_absolute_error: 0.4113\n",
      "Epoch 4/30\n",
      "1055/1055 [==============================] - 9s 9ms/step - loss: 0.2909 - mean_absolute_error: 0.3714 - val_loss: 0.2743 - val_mean_absolute_error: 0.3934\n",
      "Epoch 5/30\n",
      "1055/1055 [==============================] - 10s 9ms/step - loss: 0.2802 - mean_absolute_error: 0.3617 - val_loss: 0.2625 - val_mean_absolute_error: 0.3817\n",
      "Epoch 6/30\n",
      "1055/1055 [==============================] - 10s 9ms/step - loss: 0.2734 - mean_absolute_error: 0.3555 - val_loss: 0.2536 - val_mean_absolute_error: 0.3724\n",
      "Epoch 7/30\n",
      "1055/1055 [==============================] - 9s 9ms/step - loss: 0.2691 - mean_absolute_error: 0.3515 - val_loss: 0.2463 - val_mean_absolute_error: 0.3630\n",
      "Epoch 8/30\n",
      "1055/1055 [==============================] - 10s 9ms/step - loss: 0.2652 - mean_absolute_error: 0.3479 - val_loss: 0.2363 - val_mean_absolute_error: 0.3538\n",
      "Epoch 9/30\n",
      "1055/1055 [==============================] - 10s 10ms/step - loss: 0.2619 - mean_absolute_error: 0.3449 - val_loss: 0.2393 - val_mean_absolute_error: 0.3544\n",
      "Epoch 10/30\n",
      "1055/1055 [==============================] - 10s 9ms/step - loss: 0.2597 - mean_absolute_error: 0.3425 - val_loss: 0.2310 - val_mean_absolute_error: 0.3459\n",
      "Epoch 11/30\n",
      "1055/1055 [==============================] - 10s 9ms/step - loss: 0.2573 - mean_absolute_error: 0.3404 - val_loss: 0.2329 - val_mean_absolute_error: 0.3462\n",
      "Epoch 12/30\n",
      "1055/1055 [==============================] - 10s 9ms/step - loss: 0.2557 - mean_absolute_error: 0.3387 - val_loss: 0.2283 - val_mean_absolute_error: 0.3427\n",
      "Epoch 13/30\n",
      "1055/1055 [==============================] - 10s 9ms/step - loss: 0.2536 - mean_absolute_error: 0.3369 - val_loss: 0.2274 - val_mean_absolute_error: 0.3411\n",
      "Epoch 14/30\n",
      "1055/1055 [==============================] - 10s 9ms/step - loss: 0.2520 - mean_absolute_error: 0.3354 - val_loss: 0.2251 - val_mean_absolute_error: 0.3379\n",
      "Epoch 15/30\n",
      "1055/1055 [==============================] - 10s 9ms/step - loss: 0.2501 - mean_absolute_error: 0.3339 - val_loss: 0.2217 - val_mean_absolute_error: 0.3352\n",
      "Epoch 16/30\n",
      "1055/1055 [==============================] - 10s 9ms/step - loss: 0.2487 - mean_absolute_error: 0.3328 - val_loss: 0.2206 - val_mean_absolute_error: 0.3334\n",
      "Epoch 17/30\n",
      "1055/1055 [==============================] - 10s 10ms/step - loss: 0.2469 - mean_absolute_error: 0.3313 - val_loss: 0.2189 - val_mean_absolute_error: 0.3319\n",
      "Epoch 18/30\n",
      "1055/1055 [==============================] - 10s 10ms/step - loss: 0.2459 - mean_absolute_error: 0.3304 - val_loss: 0.2193 - val_mean_absolute_error: 0.3311\n",
      "Epoch 19/30\n",
      "1055/1055 [==============================] - 10s 9ms/step - loss: 0.2447 - mean_absolute_error: 0.3292 - val_loss: 0.2183 - val_mean_absolute_error: 0.3310\n",
      "Epoch 20/30\n",
      "1055/1055 [==============================] - 10s 10ms/step - loss: 0.2437 - mean_absolute_error: 0.3284 - val_loss: 0.2179 - val_mean_absolute_error: 0.3310\n",
      "Epoch 21/30\n",
      "1055/1055 [==============================] - 10s 9ms/step - loss: 0.2426 - mean_absolute_error: 0.3276 - val_loss: 0.2176 - val_mean_absolute_error: 0.3305\n",
      "Epoch 22/30\n",
      "1055/1055 [==============================] - 10s 10ms/step - loss: 0.2415 - mean_absolute_error: 0.3267 - val_loss: 0.2173 - val_mean_absolute_error: 0.3310\n",
      "Epoch 23/30\n",
      "1055/1055 [==============================] - 10s 9ms/step - loss: 0.2407 - mean_absolute_error: 0.3261 - val_loss: 0.2143 - val_mean_absolute_error: 0.3290\n",
      "Epoch 24/30\n",
      "1055/1055 [==============================] - 9s 9ms/step - loss: 0.2396 - mean_absolute_error: 0.3253 - val_loss: 0.2155 - val_mean_absolute_error: 0.3294\n",
      "Epoch 25/30\n",
      "1055/1055 [==============================] - 10s 9ms/step - loss: 0.2388 - mean_absolute_error: 0.3247 - val_loss: 0.2148 - val_mean_absolute_error: 0.3269\n",
      "Epoch 26/30\n",
      "1055/1055 [==============================] - 11s 10ms/step - loss: 0.2382 - mean_absolute_error: 0.3244 - val_loss: 0.2088 - val_mean_absolute_error: 0.3230\n",
      "Epoch 27/30\n",
      "1055/1055 [==============================] - 10s 10ms/step - loss: 0.2377 - mean_absolute_error: 0.3239 - val_loss: 0.2136 - val_mean_absolute_error: 0.3266\n",
      "Epoch 28/30\n",
      "1055/1055 [==============================] - 10s 10ms/step - loss: 0.2370 - mean_absolute_error: 0.3234 - val_loss: 0.2141 - val_mean_absolute_error: 0.3261\n",
      "Epoch 29/30\n",
      "1055/1055 [==============================] - 10s 9ms/step - loss: 0.2360 - mean_absolute_error: 0.3228 - val_loss: 0.2082 - val_mean_absolute_error: 0.3203\n",
      "Epoch 30/30\n",
      "1055/1055 [==============================] - 10s 9ms/step - loss: 0.2353 - mean_absolute_error: 0.3222 - val_loss: 0.2151 - val_mean_absolute_error: 0.3259\n"
     ]
    }
   ],
   "source": [
    "history5 = model5.fit(window.train, epochs=30, batch_size = 64, \n",
    "  validation_data = window.val, callbacks=[early_stopping5]) "
   ]
  },
  {
   "cell_type": "code",
   "execution_count": 452,
   "metadata": {},
   "outputs": [
    {
     "data": {
      "image/png": "[encoded data removed]",
      "text/plain": [
       "<Figure size 576x360 with 1 Axes>"
      ]
     },
     "metadata": {
      "needs_background": "light"
     },
     "output_type": "display_data"
    }
   ],
   "source": [
    "plt.figure(figsize=(8, 5))\n",
    "plt.title('MAE')\n",
    "plt.plot(history5.history['mean_absolute_error'], label='train')\n",
    "plt.plot(history5.history['val_mean_absolute_error'], label='Valid')\n",
    "plt.xlabel('Epoch')\n",
    "plt.ylabel('value')\n",
    "plt.legend(loc='lower right')\n",
    "plt.show()"
   ]
  },
  {
   "cell_type": "code",
   "execution_count": 469,
   "metadata": {},
   "outputs": [],
   "source": [
    "mytest5 = test_data.iloc[8:]  "
   ]
  },
  {
   "cell_type": "code",
   "execution_count": 470,
   "metadata": {},
   "outputs": [],
   "source": [
    "myDim5 = np.expand_dims(mytest5, axis=0) "
   ]
  },
  {
   "cell_type": "code",
   "execution_count": 472,
   "metadata": {},
   "outputs": [
    {
     "data": {
      "text/plain": [
       "(1, 4813, 1)"
      ]
     },
     "execution_count": 472,
     "metadata": {},
     "output_type": "execute_result"
    }
   ],
   "source": [
    "predictions5 = model5.predict(myDim5)   \n",
    "predictions5.shape"
   ]
  },
  {
   "cell_type": "code",
   "execution_count": 473,
   "metadata": {},
   "outputs": [
    {
     "data": {
      "text/plain": [
       "(4813, 1)"
      ]
     },
     "execution_count": 473,
     "metadata": {},
     "output_type": "execute_result"
    }
   ],
   "source": [
    "temp0 = predictions5.shape[0]    \n",
    "temp1 = predictions5.shape[1]    \n",
    "temp2 = predictions5.shape[2]    \n",
    "p5 = predictions5.reshape((temp1, temp0 * temp2))  \n",
    "p5.shape "
   ]
  },
  {
   "cell_type": "code",
   "execution_count": 474,
   "metadata": {},
   "outputs": [
    {
     "data": {
      "text/plain": [
       "(4813, 1)"
      ]
     },
     "execution_count": 474,
     "metadata": {},
     "output_type": "execute_result"
    }
   ],
   "source": [
    "norm5 = (p5 * TempTrain_std[0]) + TempTrain_mean[0]   \n",
    "                                                     \n",
    "norm5.shape"
   ]
  },
  {
   "cell_type": "code",
   "execution_count": 475,
   "metadata": {},
   "outputs": [
    {
     "data": {
      "text/html": [
       "<div>\n",
       "<style scoped>\n",
       "    .dataframe tbody tr th:only-of-type {\n",
       "        vertical-align: middle;\n",
       "    }\n",
       "\n",
       "    .dataframe tbody tr th {\n",
       "        vertical-align: top;\n",
       "    }\n",
       "\n",
       "    .dataframe thead th {\n",
       "        text-align: right;\n",
       "    }\n",
       "</style>\n",
       "<table border=\"1\" class=\"dataframe\">\n",
       "  <thead>\n",
       "    <tr style=\"text-align: right;\">\n",
       "      <th></th>\n",
       "      <th>id</th>\n",
       "      <th>prediction</th>\n",
       "    </tr>\n",
       "  </thead>\n",
       "  <tbody>\n",
       "    <tr>\n",
       "      <th>0</th>\n",
       "      <td>43391</td>\n",
       "      <td>3041.578857</td>\n",
       "    </tr>\n",
       "    <tr>\n",
       "      <th>1</th>\n",
       "      <td>43392</td>\n",
       "      <td>2894.284180</td>\n",
       "    </tr>\n",
       "    <tr>\n",
       "      <th>2</th>\n",
       "      <td>43393</td>\n",
       "      <td>3006.456543</td>\n",
       "    </tr>\n",
       "    <tr>\n",
       "      <th>3</th>\n",
       "      <td>43394</td>\n",
       "      <td>2641.798340</td>\n",
       "    </tr>\n",
       "    <tr>\n",
       "      <th>4</th>\n",
       "      <td>43395</td>\n",
       "      <td>2446.177490</td>\n",
       "    </tr>\n",
       "  </tbody>\n",
       "</table>\n",
       "</div>"
      ],
      "text/plain": [
       "      id   prediction\n",
       "0  43391  3041.578857\n",
       "1  43392  2894.284180\n",
       "2  43393  3006.456543\n",
       "3  43394  2641.798340\n",
       "4  43395  2446.177490"
      ]
     },
     "execution_count": 475,
     "metadata": {},
     "output_type": "execute_result"
    }
   ],
   "source": [
    "res5 = norm5.flatten()          \n",
    "myres5 = zip()                  \n",
    "finalRes5 = []                  \n",
    "myres5 = zip(mytest5.iloc[:,0].index , res5)        \n",
    "finalRes5 = list(myres5)                             \n",
    "model5 = pd.DataFrame(finalRes5, columns = ['id', 'prediction']) \n",
    "model5.head()                   "
   ]
  },
  {
   "cell_type": "code",
   "execution_count": 476,
   "metadata": {},
   "outputs": [],
   "source": [
    "model5.to_csv('kaggle5.csv', index=False) "
   ]
  },
  {
   "cell_type": "code",
   "execution_count": null,
   "metadata": {},
   "outputs": [],
   "source": []
  }
 ],
 "metadata": {
  "kernelspec": {
   "display_name": "Python 3",
   "language": "python",
   "name": "python3"
  },
  "language_info": {
   "codemirror_mode": {
    "name": "ipython",
    "version": 3
   },
   "file_extension": ".py",
   "mimetype": "text/x-python",
   "name": "python",
   "nbconvert_exporter": "python",
   "pygments_lexer": "ipython3",
   "version": "3.8.3"
  }
 },
 "nbformat": 4,
 "nbformat_minor": 4
}
