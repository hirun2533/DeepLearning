{
 "cells": [
  {
   "cell_type": "code",
   "execution_count": 145,
   "metadata": {},
   "outputs": [
    {
     "name": "stdout",
     "output_type": "stream",
     "text": [
      "2.3.1\n"
     ]
    }
   ],
   "source": [
    "import pandas as pd\n",
    "import numpy as np\n",
    "import os\n",
    "import datetime\n",
    "import sys \n",
    "import IPython\n",
    "import IPython.display\n",
    "import matplotlib as mpl\n",
    "import matplotlib.pyplot as plt\n",
    "import seaborn as sns\n",
    "import tensorflow as tf\n",
    "from tensorflow import keras\n",
    "print(tf.__version__)"
   ]
  },
  {
   "cell_type": "code",
   "execution_count": 146,
   "metadata": {},
   "outputs": [],
   "source": [
    "from tensorflow.keras import datasets, layers, models"
   ]
  },
  {
   "cell_type": "code",
   "execution_count": 147,
   "metadata": {},
   "outputs": [],
   "source": [
    "data = pd.read_csv(\"Metro_Interstate_Traffic_volume.csv\")"
   ]
  },
  {
   "cell_type": "code",
   "execution_count": 148,
   "metadata": {},
   "outputs": [
    {
     "data": {
      "text/html": [
       "<div>\n",
       "<style scoped>\n",
       "    .dataframe tbody tr th:only-of-type {\n",
       "        vertical-align: middle;\n",
       "    }\n",
       "\n",
       "    .dataframe tbody tr th {\n",
       "        vertical-align: top;\n",
       "    }\n",
       "\n",
       "    .dataframe thead th {\n",
       "        text-align: right;\n",
       "    }\n",
       "</style>\n",
       "<table border=\"1\" class=\"dataframe\">\n",
       "  <thead>\n",
       "    <tr style=\"text-align: right;\">\n",
       "      <th></th>\n",
       "      <th>holiday</th>\n",
       "      <th>temp</th>\n",
       "      <th>rain_1h</th>\n",
       "      <th>snow_1h</th>\n",
       "      <th>clouds_all</th>\n",
       "      <th>weather_main</th>\n",
       "      <th>weather_description</th>\n",
       "      <th>date_time</th>\n",
       "      <th>traffic_volume</th>\n",
       "    </tr>\n",
       "  </thead>\n",
       "  <tbody>\n",
       "    <tr>\n",
       "      <th>0</th>\n",
       "      <td>None</td>\n",
       "      <td>288.28</td>\n",
       "      <td>0.0</td>\n",
       "      <td>0.0</td>\n",
       "      <td>40</td>\n",
       "      <td>Clouds</td>\n",
       "      <td>scattered clouds</td>\n",
       "      <td>2012-10-02 09:00:00</td>\n",
       "      <td>5545</td>\n",
       "    </tr>\n",
       "    <tr>\n",
       "      <th>1</th>\n",
       "      <td>None</td>\n",
       "      <td>289.36</td>\n",
       "      <td>0.0</td>\n",
       "      <td>0.0</td>\n",
       "      <td>75</td>\n",
       "      <td>Clouds</td>\n",
       "      <td>broken clouds</td>\n",
       "      <td>2012-10-02 10:00:00</td>\n",
       "      <td>4516</td>\n",
       "    </tr>\n",
       "    <tr>\n",
       "      <th>2</th>\n",
       "      <td>None</td>\n",
       "      <td>289.58</td>\n",
       "      <td>0.0</td>\n",
       "      <td>0.0</td>\n",
       "      <td>90</td>\n",
       "      <td>Clouds</td>\n",
       "      <td>overcast clouds</td>\n",
       "      <td>2012-10-02 11:00:00</td>\n",
       "      <td>4767</td>\n",
       "    </tr>\n",
       "    <tr>\n",
       "      <th>3</th>\n",
       "      <td>None</td>\n",
       "      <td>290.13</td>\n",
       "      <td>0.0</td>\n",
       "      <td>0.0</td>\n",
       "      <td>90</td>\n",
       "      <td>Clouds</td>\n",
       "      <td>overcast clouds</td>\n",
       "      <td>2012-10-02 12:00:00</td>\n",
       "      <td>5026</td>\n",
       "    </tr>\n",
       "    <tr>\n",
       "      <th>4</th>\n",
       "      <td>None</td>\n",
       "      <td>291.14</td>\n",
       "      <td>0.0</td>\n",
       "      <td>0.0</td>\n",
       "      <td>75</td>\n",
       "      <td>Clouds</td>\n",
       "      <td>broken clouds</td>\n",
       "      <td>2012-10-02 13:00:00</td>\n",
       "      <td>4918</td>\n",
       "    </tr>\n",
       "  </tbody>\n",
       "</table>\n",
       "</div>"
      ],
      "text/plain": [
       "  holiday    temp  rain_1h  snow_1h  clouds_all weather_main  \\\n",
       "0    None  288.28      0.0      0.0          40       Clouds   \n",
       "1    None  289.36      0.0      0.0          75       Clouds   \n",
       "2    None  289.58      0.0      0.0          90       Clouds   \n",
       "3    None  290.13      0.0      0.0          90       Clouds   \n",
       "4    None  291.14      0.0      0.0          75       Clouds   \n",
       "\n",
       "  weather_description            date_time  traffic_volume  \n",
       "0    scattered clouds  2012-10-02 09:00:00            5545  \n",
       "1       broken clouds  2012-10-02 10:00:00            4516  \n",
       "2     overcast clouds  2012-10-02 11:00:00            4767  \n",
       "3     overcast clouds  2012-10-02 12:00:00            5026  \n",
       "4       broken clouds  2012-10-02 13:00:00            4918  "
      ]
     },
     "execution_count": 148,
     "metadata": {},
     "output_type": "execute_result"
    }
   ],
   "source": [
    "data.head()"
   ]
  },
  {
   "cell_type": "code",
   "execution_count": 149,
   "metadata": {},
   "outputs": [
    {
     "data": {
      "text/plain": [
       "holiday                0\n",
       "temp                   0\n",
       "rain_1h                0\n",
       "snow_1h                0\n",
       "clouds_all             0\n",
       "weather_main           0\n",
       "weather_description    0\n",
       "date_time              0\n",
       "traffic_volume         0\n",
       "dtype: int64"
      ]
     },
     "execution_count": 149,
     "metadata": {},
     "output_type": "execute_result"
    }
   ],
   "source": [
    "data.isna().sum()"
   ]
  },
  {
   "cell_type": "code",
   "execution_count": 150,
   "metadata": {},
   "outputs": [],
   "source": [
    "mpl.rcParams['figure.figsize'] = (8, 6)\n",
    "mpl.rcParams['axes.grid'] = False"
   ]
  },
  {
   "cell_type": "code",
   "execution_count": 151,
   "metadata": {},
   "outputs": [],
   "source": [
    "time = pd.to_datetime(data['date_time'], format='%Y-%m-%d %H:%M:%S',errors = 'coerce')"
   ]
  },
  {
   "cell_type": "code",
   "execution_count": 152,
   "metadata": {},
   "outputs": [
    {
     "data": {
      "image/png": "[encoded data removed]",
      "text/plain": [
       "<Figure size 576x432 with 5 Axes>"
      ]
     },
     "metadata": {
      "needs_background": "light"
     },
     "output_type": "display_data"
    },
    {
     "data": {
      "image/png": "[encoded data removed]",
      "text/plain": [
       "<Figure size 576x432 with 5 Axes>"
      ]
     },
     "metadata": {
      "needs_background": "light"
     },
     "output_type": "display_data"
    }
   ],
   "source": [
    "plot_cols = ['temp', 'rain_1h', 'snow_1h', 'clouds_all', 'traffic_volume']\n",
    "plot_features = data[plot_cols]\n",
    "plot_features.index = time\n",
    "_ = plot_features.plot(subplots=True)\n",
    "\n",
    "plot_features = data[plot_cols][:480]\n",
    "plot_features.index = time[:480]\n",
    "_ = plot_features.plot(subplots=True)"
   ]
  },
  {
   "cell_type": "code",
   "execution_count": 153,
   "metadata": {},
   "outputs": [
    {
     "data": {
      "text/html": [
       "<div>\n",
       "<style scoped>\n",
       "    .dataframe tbody tr th:only-of-type {\n",
       "        vertical-align: middle;\n",
       "    }\n",
       "\n",
       "    .dataframe tbody tr th {\n",
       "        vertical-align: top;\n",
       "    }\n",
       "\n",
       "    .dataframe thead th {\n",
       "        text-align: right;\n",
       "    }\n",
       "</style>\n",
       "<table border=\"1\" class=\"dataframe\">\n",
       "  <thead>\n",
       "    <tr style=\"text-align: right;\">\n",
       "      <th></th>\n",
       "      <th>count</th>\n",
       "      <th>mean</th>\n",
       "      <th>std</th>\n",
       "      <th>min</th>\n",
       "      <th>25%</th>\n",
       "      <th>50%</th>\n",
       "      <th>75%</th>\n",
       "      <th>max</th>\n",
       "    </tr>\n",
       "  </thead>\n",
       "  <tbody>\n",
       "    <tr>\n",
       "      <th>temp</th>\n",
       "      <td>48204.0</td>\n",
       "      <td>281.205870</td>\n",
       "      <td>13.338232</td>\n",
       "      <td>0.0</td>\n",
       "      <td>272.16</td>\n",
       "      <td>282.45</td>\n",
       "      <td>291.806</td>\n",
       "      <td>310.07</td>\n",
       "    </tr>\n",
       "    <tr>\n",
       "      <th>rain_1h</th>\n",
       "      <td>48204.0</td>\n",
       "      <td>0.334264</td>\n",
       "      <td>44.789133</td>\n",
       "      <td>0.0</td>\n",
       "      <td>0.00</td>\n",
       "      <td>0.00</td>\n",
       "      <td>0.000</td>\n",
       "      <td>9831.30</td>\n",
       "    </tr>\n",
       "    <tr>\n",
       "      <th>snow_1h</th>\n",
       "      <td>48204.0</td>\n",
       "      <td>0.000222</td>\n",
       "      <td>0.008168</td>\n",
       "      <td>0.0</td>\n",
       "      <td>0.00</td>\n",
       "      <td>0.00</td>\n",
       "      <td>0.000</td>\n",
       "      <td>0.51</td>\n",
       "    </tr>\n",
       "    <tr>\n",
       "      <th>clouds_all</th>\n",
       "      <td>48204.0</td>\n",
       "      <td>49.362231</td>\n",
       "      <td>39.015750</td>\n",
       "      <td>0.0</td>\n",
       "      <td>1.00</td>\n",
       "      <td>64.00</td>\n",
       "      <td>90.000</td>\n",
       "      <td>100.00</td>\n",
       "    </tr>\n",
       "    <tr>\n",
       "      <th>traffic_volume</th>\n",
       "      <td>48204.0</td>\n",
       "      <td>3259.818355</td>\n",
       "      <td>1986.860670</td>\n",
       "      <td>0.0</td>\n",
       "      <td>1193.00</td>\n",
       "      <td>3380.00</td>\n",
       "      <td>4933.000</td>\n",
       "      <td>7280.00</td>\n",
       "    </tr>\n",
       "  </tbody>\n",
       "</table>\n",
       "</div>"
      ],
      "text/plain": [
       "                  count         mean          std  min      25%      50%  \\\n",
       "temp            48204.0   281.205870    13.338232  0.0   272.16   282.45   \n",
       "rain_1h         48204.0     0.334264    44.789133  0.0     0.00     0.00   \n",
       "snow_1h         48204.0     0.000222     0.008168  0.0     0.00     0.00   \n",
       "clouds_all      48204.0    49.362231    39.015750  0.0     1.00    64.00   \n",
       "traffic_volume  48204.0  3259.818355  1986.860670  0.0  1193.00  3380.00   \n",
       "\n",
       "                     75%      max  \n",
       "temp             291.806   310.07  \n",
       "rain_1h            0.000  9831.30  \n",
       "snow_1h            0.000     0.51  \n",
       "clouds_all        90.000   100.00  \n",
       "traffic_volume  4933.000  7280.00  "
      ]
     },
     "execution_count": 153,
     "metadata": {},
     "output_type": "execute_result"
    }
   ],
   "source": [
    "data.describe().transpose()"
   ]
  },
  {
   "cell_type": "code",
   "execution_count": 154,
   "metadata": {},
   "outputs": [],
   "source": [
    "timestamp_s = time.map(datetime.datetime.timestamp)"
   ]
  },
  {
   "cell_type": "code",
   "execution_count": 155,
   "metadata": {},
   "outputs": [],
   "source": [
    "day = 24*60*60\n",
    "year = (365.2425)*day\n",
    "\n",
    "data['Day sin'] = np.sin(timestamp_s * (2 * np.pi / day))\n",
    "data['Day cos'] = np.cos(timestamp_s * (2 * np.pi / day))\n",
    "data['Year sin'] = np.sin(timestamp_s * (2 * np.pi / year))\n",
    "data['Year cos'] = np.cos(timestamp_s * (2 * np.pi / year))"
   ]
  },
  {
   "cell_type": "code",
   "execution_count": 156,
   "metadata": {},
   "outputs": [
    {
     "data": {
      "text/plain": [
       "Text(0.5, 1.0, 'Time of day signal')"
      ]
     },
     "execution_count": 156,
     "metadata": {},
     "output_type": "execute_result"
    },
    {
     "data": {
      "image/png": "[encoded data removed]",
      "text/plain": [
       "<Figure size 576x432 with 1 Axes>"
      ]
     },
     "metadata": {
      "needs_background": "light"
     },
     "output_type": "display_data"
    }
   ],
   "source": [
    "plt.plot(np.array(data['Day sin'])[:25])\n",
    "plt.plot(np.array(data['Day cos'])[:25])\n",
    "plt.xlabel('Time [h]')\n",
    "plt.title('Time of day signal')"
   ]
  },
  {
   "cell_type": "code",
   "execution_count": 157,
   "metadata": {},
   "outputs": [
    {
     "data": {
      "image/png": "[encoded data removed]",
      "text/plain": [
       "<Figure size 576x432 with 1 Axes>"
      ]
     },
     "metadata": {
      "needs_background": "light"
     },
     "output_type": "display_data"
    }
   ],
   "source": [
    "fft = tf.signal.rfft(data['temp'])\n",
    "f_per_dataset = np.arange(0, len(fft))\n",
    "\n",
    "n_samples_h = len(data['temp'])\n",
    "hours_per_year = 24*365.2524\n",
    "years_per_dataset = n_samples_h/(hours_per_year)\n",
    "\n",
    "f_per_year = f_per_dataset/years_per_dataset\n",
    "plt.step(f_per_year, np.abs(fft))\n",
    "plt.xscale('log')\n",
    "plt.ylim(0, 400000)\n",
    "plt.xlim([0.1, max(plt.xlim())])\n",
    "plt.xticks([1, 365.2524], labels=['1/Year', '1/day'])\n",
    "_ = plt.xlabel('Frequency (log scale)')"
   ]
  },
  {
   "cell_type": "code",
   "execution_count": 158,
   "metadata": {},
   "outputs": [
    {
     "data": {
      "text/plain": [
       "Index(['holiday', 'temp', 'rain_1h', 'snow_1h', 'clouds_all', 'weather_main',\n",
       "       'weather_description', 'date_time', 'traffic_volume', 'Day sin',\n",
       "       'Day cos', 'Year sin', 'Year cos'],\n",
       "      dtype='object')"
      ]
     },
     "execution_count": 158,
     "metadata": {},
     "output_type": "execute_result"
    }
   ],
   "source": [
    "data.columns"
   ]
  },
  {
   "cell_type": "code",
   "execution_count": 159,
   "metadata": {},
   "outputs": [
    {
     "data": {
      "text/plain": [
       "(48204, 9)"
      ]
     },
     "execution_count": 159,
     "metadata": {},
     "output_type": "execute_result"
    }
   ],
   "source": [
    "x_data = data[['traffic_volume','temp', 'rain_1h', 'snow_1h', 'clouds_all','Day sin',\n",
    "       'Day cos', 'Year sin', 'Year cos']]\n",
    "x_data.shape"
   ]
  },
  {
   "cell_type": "code",
   "execution_count": 181,
   "metadata": {},
   "outputs": [
    {
     "data": {
      "text/plain": [
       "(4813, 9)"
      ]
     },
     "execution_count": 181,
     "metadata": {},
     "output_type": "execute_result"
    }
   ],
   "source": [
    "test = x_data[43391:]\n",
    "test.shape"
   ]
  },
  {
   "cell_type": "code",
   "execution_count": 182,
   "metadata": {},
   "outputs": [
    {
     "data": {
      "text/html": [
       "<div>\n",
       "<style scoped>\n",
       "    .dataframe tbody tr th:only-of-type {\n",
       "        vertical-align: middle;\n",
       "    }\n",
       "\n",
       "    .dataframe tbody tr th {\n",
       "        vertical-align: top;\n",
       "    }\n",
       "\n",
       "    .dataframe thead th {\n",
       "        text-align: right;\n",
       "    }\n",
       "</style>\n",
       "<table border=\"1\" class=\"dataframe\">\n",
       "  <thead>\n",
       "    <tr style=\"text-align: right;\">\n",
       "      <th></th>\n",
       "      <th>traffic_volume</th>\n",
       "      <th>temp</th>\n",
       "      <th>rain_1h</th>\n",
       "      <th>snow_1h</th>\n",
       "      <th>clouds_all</th>\n",
       "      <th>Day sin</th>\n",
       "      <th>Day cos</th>\n",
       "      <th>Year sin</th>\n",
       "      <th>Year cos</th>\n",
       "    </tr>\n",
       "  </thead>\n",
       "  <tbody>\n",
       "    <tr>\n",
       "      <th>0</th>\n",
       "      <td>5545</td>\n",
       "      <td>288.28</td>\n",
       "      <td>0.0</td>\n",
       "      <td>0.0</td>\n",
       "      <td>40</td>\n",
       "      <td>-5.000000e-01</td>\n",
       "      <td>-8.660254e-01</td>\n",
       "      <td>-0.999682</td>\n",
       "      <td>0.025224</td>\n",
       "    </tr>\n",
       "    <tr>\n",
       "      <th>1</th>\n",
       "      <td>4516</td>\n",
       "      <td>289.36</td>\n",
       "      <td>0.0</td>\n",
       "      <td>0.0</td>\n",
       "      <td>75</td>\n",
       "      <td>-7.071068e-01</td>\n",
       "      <td>-7.071068e-01</td>\n",
       "      <td>-0.999663</td>\n",
       "      <td>0.025941</td>\n",
       "    </tr>\n",
       "    <tr>\n",
       "      <th>2</th>\n",
       "      <td>4767</td>\n",
       "      <td>289.58</td>\n",
       "      <td>0.0</td>\n",
       "      <td>0.0</td>\n",
       "      <td>90</td>\n",
       "      <td>-8.660254e-01</td>\n",
       "      <td>-5.000000e-01</td>\n",
       "      <td>-0.999645</td>\n",
       "      <td>0.026658</td>\n",
       "    </tr>\n",
       "    <tr>\n",
       "      <th>3</th>\n",
       "      <td>5026</td>\n",
       "      <td>290.13</td>\n",
       "      <td>0.0</td>\n",
       "      <td>0.0</td>\n",
       "      <td>90</td>\n",
       "      <td>-9.659258e-01</td>\n",
       "      <td>-2.588190e-01</td>\n",
       "      <td>-0.999625</td>\n",
       "      <td>0.027374</td>\n",
       "    </tr>\n",
       "    <tr>\n",
       "      <th>4</th>\n",
       "      <td>4918</td>\n",
       "      <td>291.14</td>\n",
       "      <td>0.0</td>\n",
       "      <td>0.0</td>\n",
       "      <td>75</td>\n",
       "      <td>-1.000000e+00</td>\n",
       "      <td>5.575167e-13</td>\n",
       "      <td>-0.999605</td>\n",
       "      <td>0.028091</td>\n",
       "    </tr>\n",
       "    <tr>\n",
       "      <th>...</th>\n",
       "      <td>...</td>\n",
       "      <td>...</td>\n",
       "      <td>...</td>\n",
       "      <td>...</td>\n",
       "      <td>...</td>\n",
       "      <td>...</td>\n",
       "      <td>...</td>\n",
       "      <td>...</td>\n",
       "      <td>...</td>\n",
       "    </tr>\n",
       "    <tr>\n",
       "      <th>48199</th>\n",
       "      <td>3543</td>\n",
       "      <td>283.45</td>\n",
       "      <td>0.0</td>\n",
       "      <td>0.0</td>\n",
       "      <td>75</td>\n",
       "      <td>-7.593937e-12</td>\n",
       "      <td>1.000000e+00</td>\n",
       "      <td>-0.999952</td>\n",
       "      <td>-0.009838</td>\n",
       "    </tr>\n",
       "    <tr>\n",
       "      <th>48200</th>\n",
       "      <td>2781</td>\n",
       "      <td>282.76</td>\n",
       "      <td>0.0</td>\n",
       "      <td>0.0</td>\n",
       "      <td>90</td>\n",
       "      <td>2.588190e-01</td>\n",
       "      <td>9.659258e-01</td>\n",
       "      <td>-0.999958</td>\n",
       "      <td>-0.009121</td>\n",
       "    </tr>\n",
       "    <tr>\n",
       "      <th>48201</th>\n",
       "      <td>2159</td>\n",
       "      <td>282.73</td>\n",
       "      <td>0.0</td>\n",
       "      <td>0.0</td>\n",
       "      <td>90</td>\n",
       "      <td>5.000000e-01</td>\n",
       "      <td>8.660254e-01</td>\n",
       "      <td>-0.999965</td>\n",
       "      <td>-0.008404</td>\n",
       "    </tr>\n",
       "    <tr>\n",
       "      <th>48202</th>\n",
       "      <td>1450</td>\n",
       "      <td>282.09</td>\n",
       "      <td>0.0</td>\n",
       "      <td>0.0</td>\n",
       "      <td>90</td>\n",
       "      <td>7.071068e-01</td>\n",
       "      <td>7.071068e-01</td>\n",
       "      <td>-0.999970</td>\n",
       "      <td>-0.007687</td>\n",
       "    </tr>\n",
       "    <tr>\n",
       "      <th>48203</th>\n",
       "      <td>954</td>\n",
       "      <td>282.12</td>\n",
       "      <td>0.0</td>\n",
       "      <td>0.0</td>\n",
       "      <td>90</td>\n",
       "      <td>8.660254e-01</td>\n",
       "      <td>5.000000e-01</td>\n",
       "      <td>-0.999976</td>\n",
       "      <td>-0.006971</td>\n",
       "    </tr>\n",
       "  </tbody>\n",
       "</table>\n",
       "<p>48204 rows × 9 columns</p>\n",
       "</div>"
      ],
      "text/plain": [
       "       traffic_volume    temp  rain_1h  snow_1h  clouds_all       Day sin  \\\n",
       "0                5545  288.28      0.0      0.0          40 -5.000000e-01   \n",
       "1                4516  289.36      0.0      0.0          75 -7.071068e-01   \n",
       "2                4767  289.58      0.0      0.0          90 -8.660254e-01   \n",
       "3                5026  290.13      0.0      0.0          90 -9.659258e-01   \n",
       "4                4918  291.14      0.0      0.0          75 -1.000000e+00   \n",
       "...               ...     ...      ...      ...         ...           ...   \n",
       "48199            3543  283.45      0.0      0.0          75 -7.593937e-12   \n",
       "48200            2781  282.76      0.0      0.0          90  2.588190e-01   \n",
       "48201            2159  282.73      0.0      0.0          90  5.000000e-01   \n",
       "48202            1450  282.09      0.0      0.0          90  7.071068e-01   \n",
       "48203             954  282.12      0.0      0.0          90  8.660254e-01   \n",
       "\n",
       "            Day cos  Year sin  Year cos  \n",
       "0     -8.660254e-01 -0.999682  0.025224  \n",
       "1     -7.071068e-01 -0.999663  0.025941  \n",
       "2     -5.000000e-01 -0.999645  0.026658  \n",
       "3     -2.588190e-01 -0.999625  0.027374  \n",
       "4      5.575167e-13 -0.999605  0.028091  \n",
       "...             ...       ...       ...  \n",
       "48199  1.000000e+00 -0.999952 -0.009838  \n",
       "48200  9.659258e-01 -0.999958 -0.009121  \n",
       "48201  8.660254e-01 -0.999965 -0.008404  \n",
       "48202  7.071068e-01 -0.999970 -0.007687  \n",
       "48203  5.000000e-01 -0.999976 -0.006971  \n",
       "\n",
       "[48204 rows x 9 columns]"
      ]
     },
     "execution_count": 182,
     "metadata": {},
     "output_type": "execute_result"
    }
   ],
   "source": [
    "x_data"
   ]
  },
  {
   "cell_type": "code",
   "execution_count": 162,
   "metadata": {},
   "outputs": [],
   "source": [
    "y_data = data[['temp']]"
   ]
  },
  {
   "cell_type": "code",
   "execution_count": 163,
   "metadata": {},
   "outputs": [
    {
     "data": {
      "text/html": [
       "<div>\n",
       "<style scoped>\n",
       "    .dataframe tbody tr th:only-of-type {\n",
       "        vertical-align: middle;\n",
       "    }\n",
       "\n",
       "    .dataframe tbody tr th {\n",
       "        vertical-align: top;\n",
       "    }\n",
       "\n",
       "    .dataframe thead th {\n",
       "        text-align: right;\n",
       "    }\n",
       "</style>\n",
       "<table border=\"1\" class=\"dataframe\">\n",
       "  <thead>\n",
       "    <tr style=\"text-align: right;\">\n",
       "      <th></th>\n",
       "      <th>temp</th>\n",
       "    </tr>\n",
       "  </thead>\n",
       "  <tbody>\n",
       "    <tr>\n",
       "      <th>0</th>\n",
       "      <td>288.28</td>\n",
       "    </tr>\n",
       "    <tr>\n",
       "      <th>1</th>\n",
       "      <td>289.36</td>\n",
       "    </tr>\n",
       "    <tr>\n",
       "      <th>2</th>\n",
       "      <td>289.58</td>\n",
       "    </tr>\n",
       "    <tr>\n",
       "      <th>3</th>\n",
       "      <td>290.13</td>\n",
       "    </tr>\n",
       "    <tr>\n",
       "      <th>4</th>\n",
       "      <td>291.14</td>\n",
       "    </tr>\n",
       "    <tr>\n",
       "      <th>...</th>\n",
       "      <td>...</td>\n",
       "    </tr>\n",
       "    <tr>\n",
       "      <th>48199</th>\n",
       "      <td>283.45</td>\n",
       "    </tr>\n",
       "    <tr>\n",
       "      <th>48200</th>\n",
       "      <td>282.76</td>\n",
       "    </tr>\n",
       "    <tr>\n",
       "      <th>48201</th>\n",
       "      <td>282.73</td>\n",
       "    </tr>\n",
       "    <tr>\n",
       "      <th>48202</th>\n",
       "      <td>282.09</td>\n",
       "    </tr>\n",
       "    <tr>\n",
       "      <th>48203</th>\n",
       "      <td>282.12</td>\n",
       "    </tr>\n",
       "  </tbody>\n",
       "</table>\n",
       "<p>48204 rows × 1 columns</p>\n",
       "</div>"
      ],
      "text/plain": [
       "         temp\n",
       "0      288.28\n",
       "1      289.36\n",
       "2      289.58\n",
       "3      290.13\n",
       "4      291.14\n",
       "...       ...\n",
       "48199  283.45\n",
       "48200  282.76\n",
       "48201  282.73\n",
       "48202  282.09\n",
       "48203  282.12\n",
       "\n",
       "[48204 rows x 1 columns]"
      ]
     },
     "execution_count": 163,
     "metadata": {},
     "output_type": "execute_result"
    }
   ],
   "source": [
    "y_data"
   ]
  },
  {
   "cell_type": "code",
   "execution_count": 164,
   "metadata": {},
   "outputs": [
    {
     "data": {
      "text/plain": [
       "(48204, 1)"
      ]
     },
     "execution_count": 164,
     "metadata": {},
     "output_type": "execute_result"
    }
   ],
   "source": [
    "y_data.shape"
   ]
  },
  {
   "cell_type": "code",
   "execution_count": 165,
   "metadata": {},
   "outputs": [],
   "source": [
    "def restructure(data, n_in=1, n_out=1, dropnan=True):\n",
    "    n_vars = 1 if type(data) is list else data.shape[1]\n",
    "    df = pd.DataFrame(data)\n",
    "    cols, names = list(), list()\n",
    "\n",
    "    # setting up the input sequence (t-n, ... t-1)\n",
    "    for i in range(n_in, 0, -1):\n",
    "        cols.append(df.shift(i))\n",
    "        names += [('var%d(t-%d)' % (j+1, i)) for j in range(n_vars)]\n",
    "\n",
    "    # setting up the forecasting sequence (t, t+1, ... t+n)\n",
    "    for i in range(0, n_out):\n",
    "        cols.append(df.shift(-i))\n",
    "        if i == 0:\n",
    "            names += [('var%d(t)' % (j+1)) for j in range(n_vars)]\n",
    "        else:\n",
    "            names += [('var%d(t+%d)' % (j+1, i)) for j in range(n_vars)]\n",
    "\n",
    "    # concatenate all the columns\n",
    "    agg = pd.concat(cols, axis=1)\n",
    "    agg.columns = names\n",
    "    \n",
    "    # drop rows with NaN values\n",
    "    if dropnan:\n",
    "        agg.dropna(inplace=True)\n",
    "    return agg"
   ]
  },
  {
   "cell_type": "code",
   "execution_count": 166,
   "metadata": {},
   "outputs": [
    {
     "data": {
      "text/plain": [
       "array([[ 5.54500000e+03,  2.88280000e+02,  0.00000000e+00, ...,\n",
       "        -8.66025404e-01, -9.99681812e-01,  2.52244801e-02],\n",
       "       [ 4.51600000e+03,  2.89360000e+02,  0.00000000e+00, ...,\n",
       "        -7.07106781e-01, -9.99663475e-01,  2.59410279e-02],\n",
       "       [ 4.76700000e+03,  2.89580000e+02,  0.00000000e+00, ...,\n",
       "        -5.00000000e-01, -9.99644624e-01,  2.66575623e-02],\n",
       "       ...,\n",
       "       [ 2.15900000e+03,  2.82730000e+02,  0.00000000e+00, ...,\n",
       "         8.66025404e-01, -9.99964684e-01, -8.40417445e-03],\n",
       "       [ 1.45000000e+03,  2.82090000e+02,  0.00000000e+00, ...,\n",
       "         7.07106781e-01, -9.99970451e-01, -7.68741529e-03],\n",
       "       [ 9.54000000e+02,  2.82120000e+02,  0.00000000e+00, ...,\n",
       "         5.00000000e-01, -9.99975705e-01, -6.97065218e-03]])"
      ]
     },
     "execution_count": 166,
     "metadata": {},
     "output_type": "execute_result"
    }
   ],
   "source": [
    "x_data_values = x_data.values\n",
    "x_data_values"
   ]
  },
  {
   "cell_type": "code",
   "execution_count": 167,
   "metadata": {},
   "outputs": [],
   "source": [
    "from sklearn import preprocessing\n",
    "\n",
    "encoder = preprocessing.LabelEncoder()\n",
    "x_data_values[:,8] = encoder.fit_transform(x_data_values[:,8])"
   ]
  },
  {
   "cell_type": "code",
   "execution_count": 168,
   "metadata": {},
   "outputs": [],
   "source": [
    "x_data_values = x_data_values.astype('float32')\n",
    "\n",
    "scaler = preprocessing.MinMaxScaler(feature_range=(0, 1))\n",
    "scaled = scaler.fit_transform(x_data_values)"
   ]
  },
  {
   "cell_type": "code",
   "execution_count": 169,
   "metadata": {},
   "outputs": [],
   "source": [
    "n_hours = 6\n",
    "n_features = 9"
   ]
  },
  {
   "cell_type": "code",
   "execution_count": 170,
   "metadata": {},
   "outputs": [
    {
     "data": {
      "text/plain": [
       "(48198, 63)"
      ]
     },
     "execution_count": 170,
     "metadata": {},
     "output_type": "execute_result"
    }
   ],
   "source": [
    "x_data_reframed = restructure(x_data, n_hours, 1)\n",
    "x_data_reframed.shape"
   ]
  },
  {
   "cell_type": "code",
   "execution_count": 171,
   "metadata": {},
   "outputs": [],
   "source": [
    "# value = x_data_reframed.values\n",
    "# column_indices = {name: i for i, name in enumerate(x_data.columns)}\n",
    "\n",
    "# n = len(x_data)\n",
    "# train_df = value[0:int(n*0.7)]\n",
    "# val_df = value[int(n*0.7):int(n*0.9)]\n",
    "# test_df = value[int(n*0.9):]\n",
    "\n",
    "# num_features = x_data.shape[1]"
   ]
  },
  {
   "cell_type": "code",
   "execution_count": 172,
   "metadata": {},
   "outputs": [],
   "source": [
    "values = x_data_reframed.values\n",
    "n_train_hours = 43379\n",
    "train = values[:n_train_hours, :]\n",
    "test = values[n_train_hours:, :]"
   ]
  },
  {
   "cell_type": "code",
   "execution_count": 173,
   "metadata": {},
   "outputs": [
    {
     "name": "stdout",
     "output_type": "stream",
     "text": [
      "(43379, 54) (43379,) (4819, 54) (4819,)\n"
     ]
    }
   ],
   "source": [
    "n_obs = n_hours * n_features\n",
    "x_train, y_train = train[:, :n_obs], train[:, -n_features]\n",
    "x_test, y_test = test[:, :n_obs], test[:, -n_features]\n",
    "print(x_train.shape, y_train.shape, x_test.shape, y_test.shape)"
   ]
  },
  {
   "cell_type": "code",
   "execution_count": 174,
   "metadata": {},
   "outputs": [
    {
     "name": "stdout",
     "output_type": "stream",
     "text": [
      "(43379, 6, 9) (43379,) (4819, 6, 9) (4819,)\n"
     ]
    }
   ],
   "source": [
    "features = 6\n",
    "hours = 9\n",
    "\n",
    "x_train = x_train.reshape((x_train.shape[0], features, hours))\n",
    "# reshaped_x_validation = val_df.reshape((val_df.shape[0], features, hours))\n",
    "x_test = x_test.reshape((x_test.shape[0], features, hours))\n",
    "\n",
    "print(x_train.shape, y_train.shape, x_test.shape, y_test.shape)\n"
   ]
  },
  {
   "cell_type": "code",
   "execution_count": 175,
   "metadata": {},
   "outputs": [],
   "source": [
    "model = tf.keras.Sequential([\n",
    "    \n",
    "    tf.keras.layers.LSTM(32, return_sequences=False, input_shape=(x_train.shape[1], x_train.shape[2])),\n",
    "\n",
    "    tf.keras.layers.Dense(1),                                \n",
    "])"
   ]
  },
  {
   "cell_type": "code",
   "execution_count": 176,
   "metadata": {},
   "outputs": [],
   "source": [
    "model.compile(loss=tf.losses.MeanSquaredError(),\n",
    "                optimizer=tf.optimizers.Adam(),\n",
    "                metrics=[tf.metrics.MeanAbsoluteError()])"
   ]
  },
  {
   "cell_type": "code",
   "execution_count": 177,
   "metadata": {},
   "outputs": [
    {
     "name": "stdout",
     "output_type": "stream",
     "text": [
      "Epoch 1/10\n",
      "1356/1356 - 3s - loss: 14407118.0000 - mean_absolute_error: 3233.4319 - val_loss: 14970095.0000 - val_mean_absolute_error: 3327.5122\n",
      "Epoch 2/10\n",
      "1356/1356 - 3s - loss: 14230127.0000 - mean_absolute_error: 3206.0195 - val_loss: 14779648.0000 - val_mean_absolute_error: 3298.7686\n",
      "Epoch 3/10\n",
      "1356/1356 - 3s - loss: 14050529.0000 - mean_absolute_error: 3177.9629 - val_loss: 14604660.0000 - val_mean_absolute_error: 3272.1418\n",
      "Epoch 4/10\n",
      "1356/1356 - 3s - loss: 13881960.0000 - mean_absolute_error: 3151.3955 - val_loss: 14425471.0000 - val_mean_absolute_error: 3244.6433\n",
      "Epoch 5/10\n",
      "1356/1356 - 3s - loss: 13701828.0000 - mean_absolute_error: 3122.7620 - val_loss: 14233086.0000 - val_mean_absolute_error: 3214.8606\n",
      "Epoch 6/10\n",
      "1356/1356 - 3s - loss: 13517405.0000 - mean_absolute_error: 3093.1804 - val_loss: 14047825.0000 - val_mean_absolute_error: 3185.9180\n",
      "Epoch 7/10\n",
      "1356/1356 - 3s - loss: 13340274.0000 - mean_absolute_error: 3064.5117 - val_loss: 13865971.0000 - val_mean_absolute_error: 3157.2395\n",
      "Epoch 8/10\n",
      "1356/1356 - 3s - loss: 13164161.0000 - mean_absolute_error: 3035.7603 - val_loss: 13679380.0000 - val_mean_absolute_error: 3127.5583\n",
      "Epoch 9/10\n",
      "1356/1356 - 3s - loss: 12982422.0000 - mean_absolute_error: 3005.9443 - val_loss: 13493707.0000 - val_mean_absolute_error: 3097.8936\n",
      "Epoch 10/10\n",
      "1356/1356 - 3s - loss: 12804918.0000 - mean_absolute_error: 2976.9380 - val_loss: 13311214.0000 - val_mean_absolute_error: 3068.7837\n"
     ]
    }
   ],
   "source": [
    "history = model.fit(x_train, y_train, epochs=10, batch_size=32, \n",
    "                    validation_data=(x_test, y_test), verbose=2 ,\n",
    "                    shuffle=False)"
   ]
  },
  {
   "cell_type": "code",
   "execution_count": 193,
   "metadata": {},
   "outputs": [],
   "source": [
    "norm = preprocessing.MinMaxScaler(feature_range=(0, 1))\n",
    "test_norm = norm.fit_transform(test)"
   ]
  },
  {
   "cell_type": "code",
   "execution_count": 194,
   "metadata": {},
   "outputs": [
    {
     "data": {
      "text/plain": [
       "array([[4.43722944e-01, 1.64222874e-01, 0.00000000e+00, ...,\n",
       "        8.53553391e-01, 1.00000000e+00, 7.30423754e-01],\n",
       "       [1.55555556e-01, 1.57135875e-01, 0.00000000e+00, ...,\n",
       "        7.50000000e-01, 9.99899504e-01, 7.29729773e-01],\n",
       "       [8.75901876e-02, 1.57869013e-01, 0.00000000e+00, ...,\n",
       "        6.29409523e-01, 9.99798757e-01, 7.29035934e-01],\n",
       "       ...,\n",
       "       [2.79942280e-01, 3.31867058e-01, 0.00000000e+00, ...,\n",
       "        9.33012702e-01, 5.61831404e-06, 9.98556415e-01],\n",
       "       [1.77633478e-01, 3.16226784e-01, 0.00000000e+00, ...,\n",
       "        8.53553391e-01, 2.67819656e-06, 9.99278205e-01],\n",
       "       [1.06060606e-01, 3.16959922e-01, 0.00000000e+00, ...,\n",
       "        7.50000000e-01, 0.00000000e+00, 1.00000000e+00]])"
      ]
     },
     "execution_count": 194,
     "metadata": {},
     "output_type": "execute_result"
    }
   ],
   "source": [
    "test_norm"
   ]
  },
  {
   "cell_type": "code",
   "execution_count": 195,
   "metadata": {},
   "outputs": [],
   "source": [
    "t = np.expand_dims(test_norm,axis=0)"
   ]
  },
  {
   "cell_type": "code",
   "execution_count": 196,
   "metadata": {},
   "outputs": [
    {
     "data": {
      "text/plain": [
       "(1, 4813, 9)"
      ]
     },
     "execution_count": 196,
     "metadata": {},
     "output_type": "execute_result"
    }
   ],
   "source": [
    "t.shape"
   ]
  },
  {
   "cell_type": "code",
   "execution_count": 197,
   "metadata": {},
   "outputs": [],
   "source": [
    "yhat = model.predict(t)\n",
    "x_test = t.reshape((t.shape[0], t.shape[1]*t.shape[2]))"
   ]
  },
  {
   "cell_type": "code",
   "execution_count": 198,
   "metadata": {},
   "outputs": [
    {
     "data": {
      "text/plain": [
       "(1, 43317)"
      ]
     },
     "execution_count": 198,
     "metadata": {},
     "output_type": "execute_result"
    }
   ],
   "source": [
    "x_test.shape"
   ]
  },
  {
   "cell_type": "code",
   "execution_count": 199,
   "metadata": {},
   "outputs": [],
   "source": [
    "mm = x_test.flatten()"
   ]
  },
  {
   "cell_type": "code",
   "execution_count": 200,
   "metadata": {},
   "outputs": [
    {
     "data": {
      "text/plain": [
       "(43317,)"
      ]
     },
     "execution_count": 200,
     "metadata": {},
     "output_type": "execute_result"
    }
   ],
   "source": [
    "mm.shape"
   ]
  },
  {
   "cell_type": "code",
   "execution_count": 201,
   "metadata": {},
   "outputs": [
    {
     "name": "stdout",
     "output_type": "stream",
     "text": [
      "      id  prediction\n",
      "0  43391    0.443723\n",
      "1  43392    0.164223\n",
      "2  43393    0.000000\n",
      "3  43394    0.000000\n",
      "4  43395    0.010870\n",
      "         id  prediction\n",
      "4808  48199    0.000000\n",
      "4809  48200    0.000000\n",
      "4810  48201    0.010870\n",
      "4811  48202    0.933013\n",
      "4812  48203    0.750000\n"
     ]
    }
   ],
   "source": [
    "f = list(zip(test.iloc[:,0].index , mm))\n",
    "model1 = pd.DataFrame(f,columns = ['id', 'prediction'])\n",
    "print(model1.head())\n",
    "print(model1.tail())"
   ]
  },
  {
   "cell_type": "code",
   "execution_count": null,
   "metadata": {},
   "outputs": [],
   "source": [
    "model1.to_csv('submission_kaggle1.csv', index=False)"
   ]
  },
  {
   "cell_type": "code",
   "execution_count": null,
   "metadata": {},
   "outputs": [],
   "source": []
  }
 ],
 "metadata": {
  "kernelspec": {
   "display_name": "Python 3",
   "language": "python",
   "name": "python3"
  },
  "language_info": {
   "codemirror_mode": {
    "name": "ipython",
    "version": 3
   },
   "file_extension": ".py",
   "mimetype": "text/x-python",
   "name": "python",
   "nbconvert_exporter": "python",
   "pygments_lexer": "ipython3",
   "version": "3.8.3"
  }
 },
 "nbformat": 4,
 "nbformat_minor": 4
}
